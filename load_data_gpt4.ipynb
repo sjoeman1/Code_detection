{
 "cells": [
  {
   "cell_type": "code",
   "execution_count": null,
   "metadata": {},
   "outputs": [],
   "source": [
    "from datasets import load_dataset\n",
    "import openai, json\n",
    "key6 = ''\n",
    "openai.api_key = key6"
   ]
  },
  {
   "cell_type": "code",
   "execution_count": null,
   "metadata": {},
   "outputs": [],
   "source": [
    "prompt_q = data[2]['description']\n",
    "prompt_q"
   ]
  },
  {
   "cell_type": "code",
   "execution_count": null,
   "metadata": {},
   "outputs": [],
   "source": [
    "def get_chatgpt_qa_response(prompt_text, temperature = 0.7, max_tokens=2048):\n",
    "    messages = [{\"role\":\"system\", \"content\": \"You are a helpful assistant that answers the question provided.\"},\n",
    "                {\"role\":\"user\", \"content\": 'Provide me the Python3 codes for sovling the question: ' + prompt_text}]\n",
    "    response = openai.ChatCompletion.create(\n",
    "                model = \"gpt-4-0314\",\n",
    "                messages = messages,\n",
    "                temperature = temperature,\n",
    "                max_tokens = max_tokens,    \n",
    "                )\n",
    "    return response#['choices'][0]['message']['content']"
   ]
  },
  {
   "cell_type": "code",
   "execution_count": null,
   "metadata": {},
   "outputs": [],
   "source": [
    "response = get_chatgpt_qa_response( prompt_text = chatgpt_python_codecontest[85]['question'] )"
   ]
  },
  {
   "cell_type": "code",
   "execution_count": null,
   "metadata": {},
   "outputs": [],
   "source": [
    "response['choices'][0]['message']['content']"
   ]
  },
  {
   "cell_type": "code",
   "execution_count": null,
   "metadata": {},
   "outputs": [],
   "source": [
    "with open( 'results/gpt4_humaneval.jsonl', \"r\") as f:\n",
    "    gpt4_HumanEval = [json.loads(x) for x in f.read().strip().split(\"\\n\") ]\n",
    "len(gpt4_HumanEval)"
   ]
  },
  {
   "cell_type": "code",
   "execution_count": null,
   "metadata": {},
   "outputs": [],
   "source": [
    "len( gpt4_HumanEval[10]['gen_completion'])"
   ]
  },
  {
   "cell_type": "code",
   "execution_count": null,
   "metadata": {},
   "outputs": [],
   "source": [
    "gpt4_HumanEval[54]"
   ]
  },
  {
   "cell_type": "code",
   "execution_count": null,
   "metadata": {},
   "outputs": [],
   "source": [
    "len_all = [len(x['gold_completion']) for x in gpt4_HumanEval ]\n",
    "sum(len_all)/len(len_all)"
   ]
  },
  {
   "cell_type": "code",
   "execution_count": null,
   "metadata": {},
   "outputs": [],
   "source": [
    "max(len_all)"
   ]
  },
  {
   "cell_type": "code",
   "execution_count": null,
   "metadata": {},
   "outputs": [],
   "source": [
    "len_all.sort()"
   ]
  },
  {
   "cell_type": "code",
   "execution_count": null,
   "metadata": {},
   "outputs": [],
   "source": [
    "len_all[-3:]"
   ]
  },
  {
   "cell_type": "code",
   "execution_count": null,
   "metadata": {},
   "outputs": [],
   "source": [
    "len_all = [len(x['gen_completion']) for x in gpt4_HumanEval ]\n",
    "sum(len_all)/len(len_all)"
   ]
  },
  {
   "cell_type": "code",
   "execution_count": null,
   "metadata": {},
   "outputs": [],
   "source": [
    "from utils import parse_code_snippet\n",
    "\n",
    "for i,instance in enumerate( gpt4_HumanEval):\n",
    "    #pasrsed_codes = parse_code_snippet( prompt=instance['question'], raw_o=instance['gen_completion'] )\n",
    "    #gpt4_HumanEval[i]['pasrsed_codes'] = pasrsed_codes\n",
    "    pasrsed_codes = instance['pasrsed_codes']\n",
    "    if pasrsed_codes.startswith('# CANNOT'):\n",
    "        print(i+1)"
   ]
  },
  {
   "cell_type": "code",
   "execution_count": null,
   "metadata": {},
   "outputs": [],
   "source": [
    "gpt4_HumanEval[93]"
   ]
  },
  {
   "cell_type": "code",
   "execution_count": null,
   "metadata": {},
   "outputs": [],
   "source": [
    "outputs = []\n",
    "for ins in gpt4_HumanEval:\n",
    "    outputs.append(json.dumps(ins))\n",
    "\n",
    "with open( 'results/chatgpt_humaneval.jsonl', \"w\") as f:\n",
    "    f.write(\"\\n\".join(outputs) + \"\\n\")"
   ]
  },
  {
   "cell_type": "code",
   "execution_count": null,
   "metadata": {},
   "outputs": [],
   "source": []
  },
  {
   "cell_type": "code",
   "execution_count": null,
   "metadata": {},
   "outputs": [],
   "source": []
  },
  {
   "cell_type": "code",
   "execution_count": null,
   "metadata": {},
   "outputs": [],
   "source": [
    "def get_gpt4_continue(prompt_text, temperature = 0.7, max_tokens=2048):\n",
    "    messages = [{\"role\":\"system\", \"content\": \"You are a helpful assistant that continues the following codes. Make sure to only return continuation codes. Do not return anything else.\"},\n",
    "                {\"role\":\"user\", \"content\": 'The proceding code is provided as: ' + prompt_text}]\n",
    "    response = openai.ChatCompletion.create(\n",
    "                model = \"gpt-4-0314\",\n",
    "                messages = messages,\n",
    "                temperature = temperature,\n",
    "                max_tokens = max_tokens,    \n",
    "                )\n",
    "    return response#['choices'][0]['message']['content']"
   ]
  },
  {
   "cell_type": "code",
   "execution_count": null,
   "metadata": {},
   "outputs": [],
   "source": [
    "parsed_code = chatgpt_python_codecontest[85]['pasrsed_codes']\n",
    "parsed_code = parsed_code[ :int( 0.7*len(parsed_code)) ]\n",
    "response = get_gpt4_continue( prompt_text = parsed_code )"
   ]
  },
  {
   "cell_type": "code",
   "execution_count": null,
   "metadata": {},
   "outputs": [],
   "source": [
    "response['choices'][0]['message']['content']"
   ]
  },
  {
   "cell_type": "code",
   "execution_count": null,
   "metadata": {},
   "outputs": [],
   "source": [
    "parsed_code"
   ]
  },
  {
   "cell_type": "code",
   "execution_count": null,
   "metadata": {},
   "outputs": [],
   "source": [
    "HUMANEVAL_EOS = [\"\\nclass\", \"\\ndef\", \"\\n#\", \"\\n@\", \"\\nprint\", \"\\nif\"]\n",
    "NON_CODE_EOS = [\"<|endoftext|>\", \"\\n```\", \"\\n</s>\", \"<|endofmask|>\"]\n",
    "EOS = HUMANEVAL_EOS + NON_CODE_EOS\n",
    "\n",
    "def find_gen_func_sig(prompt):\n",
    "    func_sig = \"\"\n",
    "    for x in prompt.splitlines():\n",
    "        if x.startswith(\"def \") and x.endswith(\":\"):\n",
    "            # always pick the last one, since there could pre-defined functions.\n",
    "            func_sig = x\n",
    "    return func_sig\n",
    "\n",
    "def remove_eos(gen):\n",
    "    min_index = 1000\n",
    "    for eos in EOS:\n",
    "        if eos in gen:\n",
    "            min_index = min(min_index, gen.index(eos))\n",
    "    return gen[:min_index]"
   ]
  },
  {
   "cell_type": "code",
   "execution_count": null,
   "metadata": {},
   "outputs": [],
   "source": []
  },
  {
   "cell_type": "code",
   "execution_count": null,
   "metadata": {},
   "outputs": [],
   "source": [
    "idx = 0\n",
    "raw_o = chatgpt_python_codecontest[idx]['gen_completion'] # response['choices'][0]['message']['content'] #\n",
    "prompt = chatgpt_python_codecontest[idx]['question']\n",
    "if \"```\" in raw_o:\n",
    "    gen = raw_o.split(\"```\")[1].strip()\n",
    "    if gen.startswith(\"python\"):\n",
    "        gen = gen[len(\"python\") :].strip()\n",
    "    if gen.startswith(prompt.strip()):\n",
    "        suf = gen.split(prompt.strip())[-1]\n",
    "        suf = remove_eos(suf)\n",
    "        gen = prompt.strip() + suf\n",
    "    elif find_gen_func_sig(prompt) == '':\n",
    "        gen = gen\n",
    "    elif find_gen_func_sig(prompt) in gen:\n",
    "        # same function sign is in the prompt\n",
    "        sig = find_gen_func_sig(prompt)\n",
    "        pre, suf = gen.split(sig)[0], gen.split(sig)[-1]\n",
    "        suf = remove_eos(suf)\n",
    "        gen = pre + sig + suf\n",
    "    else:\n",
    "        gen = f\"# CANNOT PARSE CODE SNIPPET\\n{gen}\"\n",
    "else:\n",
    "    # cannot really handle parse just dump to file and maybe process later.\n",
    "    gen = f\"# CANNOT PARSE\\n{raw_o}\"\n",
    "gen\n"
   ]
  },
  {
   "cell_type": "code",
   "execution_count": null,
   "metadata": {},
   "outputs": [],
   "source": [
    "gen = raw_o.split(\"```\")[1].strip()"
   ]
  },
  {
   "cell_type": "code",
   "execution_count": null,
   "metadata": {},
   "outputs": [],
   "source": []
  },
  {
   "cell_type": "code",
   "execution_count": null,
   "metadata": {},
   "outputs": [],
   "source": [
    "def call_edit(prompt_text, temperature = 0.7, max_tokens=2048):\n",
    "\n",
    "    response = openai.Edit.create( model = \"text-davinci-edit-001\",\n",
    "                                   input = prompt_text,\n",
    "                                   instruction=\"make minimal modifications to rewrite the codes and maintain the same functionality \",\n",
    "                                   temperature=temperature,\n",
    "                                    #max_tokens=max_tokens,\n",
    "                                      )\n",
    "    return response"
   ]
  },
  {
   "cell_type": "code",
   "execution_count": null,
   "metadata": {},
   "outputs": [],
   "source": [
    "response = call_edit( prompt_text = chatgpt_python_codecontest[0]['gen_completion'] )\n",
    "response"
   ]
  },
  {
   "cell_type": "code",
   "execution_count": null,
   "metadata": {},
   "outputs": [],
   "source": [
    "idx = 0\n",
    "chatgpt_python_codecontest[idx]['gen_completion']['choices'][0]['text'][len( chatgpt_python_codecontest[idx]['question'] ): ]"
   ]
  },
  {
   "cell_type": "code",
   "execution_count": null,
   "metadata": {},
   "outputs": [],
   "source": [
    "int(0.7*537)"
   ]
  },
  {
   "cell_type": "code",
   "execution_count": null,
   "metadata": {},
   "outputs": [],
   "source": []
  },
  {
   "cell_type": "code",
   "execution_count": null,
   "metadata": {},
   "outputs": [],
   "source": [
    "with open( 'results/regen_gpt-4-0314_20_0.7.jsonl', \"r\") as f:\n",
    "    regen_gpt4 = [json.loads(x) for x in f.read().strip().split(\"\\n\") ]\n",
    "len(regen_gpt4)"
   ]
  },
  {
   "cell_type": "code",
   "execution_count": null,
   "metadata": {},
   "outputs": [],
   "source": [
    "regen_gpt4[8]['human_gen_text']#['choices']"
   ]
  },
  {
   "cell_type": "code",
   "execution_count": null,
   "metadata": {},
   "outputs": [],
   "source": []
  },
  {
   "cell_type": "code",
   "execution_count": null,
   "metadata": {},
   "outputs": [],
   "source": [
    "with open( 'results/regen_gpt-3.5-turbo_10_0.5_2nd.jsonl', \"r\") as f:\n",
    "    regen_gpt4_01 = [json.loads(x) for x in f.read().strip().split(\"\\n\") ]\n",
    "len(regen_gpt4_01)"
   ]
  },
  {
   "cell_type": "code",
   "execution_count": null,
   "metadata": {},
   "outputs": [],
   "source": [
    "with open( 'results/regen_gpt-3.5-turbo_10_0.5.jsonl', \"r\") as f:\n",
    "    regen_gpt4_02 = [json.loads(x) for x in f.read().strip().split(\"\\n\") ]\n",
    "len(regen_gpt4_02)"
   ]
  },
  {
   "cell_type": "code",
   "execution_count": null,
   "metadata": {},
   "outputs": [],
   "source": [
    "new_outputs = []\n",
    "for i,ins in enumerate(regen_gpt4_01):\n",
    "    temp = ins\n",
    "    temp2 = ins['human_gen_text']['choices'] + regen_gpt4_02[i]['human_gen_text']['choices']\n",
    "    temp['human_gen_text']['choices'] = temp2[:]\n",
    "\n",
    "    temp3 = ins['machine_gen_text']['choices'] + regen_gpt4_02[i]['machine_gen_text']['choices']\n",
    "    temp['machine_gen_text']['choices'] = temp3[:]\n",
    "\n",
    "    new_outputs.append(json.dumps( temp) )"
   ]
  },
  {
   "cell_type": "code",
   "execution_count": null,
   "metadata": {},
   "outputs": [],
   "source": [
    "temp = []\n",
    "for ins in new_outputs:\n",
    "    temp.append( ins )\n",
    "    with open( 'results/regen_gpt-3.5-turbo_20_0.5.jsonl', \"w\") as f:\n",
    "        f.write(\"\\n\".join(temp) + \"\\n\")"
   ]
  },
  {
   "cell_type": "code",
   "execution_count": null,
   "metadata": {},
   "outputs": [],
   "source": []
  },
  {
   "cell_type": "code",
   "execution_count": null,
   "metadata": {},
   "outputs": [],
   "source": []
  }
 ],
 "metadata": {
  "kernelspec": {
   "display_name": "prompt",
   "language": "python",
   "name": "python3"
  },
  "language_info": {
   "codemirror_mode": {
    "name": "ipython",
    "version": 3
   },
   "file_extension": ".py",
   "mimetype": "text/x-python",
   "name": "python",
   "nbconvert_exporter": "python",
   "pygments_lexer": "ipython3",
   "version": "3.8.15"
  },
  "orig_nbformat": 4
 },
 "nbformat": 4,
 "nbformat_minor": 2
}
