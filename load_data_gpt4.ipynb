{
 "cells": [
  {
   "cell_type": "code",
   "execution_count": 1,
   "metadata": {
    "ExecuteTime": {
     "end_time": "2024-03-10T17:00:09.855082Z",
     "start_time": "2024-03-10T17:00:08.336084Z"
    }
   },
   "outputs": [],
   "source": [
    "from datasets import load_dataset\n",
    "import openai, json\n",
    "key6 = ''\n",
    "openai.api_key = key6"
   ]
  },
  {
   "cell_type": "code",
   "execution_count": null,
   "metadata": {},
   "outputs": [],
   "source": [
    "prompt_q = data[2]['description']\n",
    "prompt_q"
   ]
  },
  {
   "cell_type": "code",
   "execution_count": null,
   "metadata": {},
   "outputs": [],
   "source": [
    "def get_chatgpt_qa_response(prompt_text, temperature = 0.7, max_tokens=2048):\n",
    "    messages = [{\"role\":\"system\", \"content\": \"You are a helpful assistant that answers the question provided.\"},\n",
    "                {\"role\":\"user\", \"content\": 'Provide me the Python3 codes for solving the question: ' + prompt_text}]\n",
    "    response = openai.ChatCompletion.create(\n",
    "                model = \"gpt-4-0314\",\n",
    "                messages = messages,\n",
    "                temperature = temperature,\n",
    "                max_tokens = max_tokens,    \n",
    "                )\n",
    "    return response#['choices'][0]['message']['content']"
   ]
  },
  {
   "cell_type": "code",
   "execution_count": null,
   "metadata": {},
   "outputs": [],
   "source": [
    "response = get_chatgpt_qa_response( prompt_text = chatgpt_python_codecontest[85]['question'] )"
   ]
  },
  {
   "cell_type": "code",
   "execution_count": null,
   "metadata": {},
   "outputs": [],
   "source": [
    "response['choices'][0]['message']['content']"
   ]
  },
  {
   "cell_type": "code",
   "execution_count": 2,
   "metadata": {
    "ExecuteTime": {
     "end_time": "2024-03-10T17:00:14.293493Z",
     "start_time": "2024-03-10T17:00:14.270422Z"
    }
   },
   "outputs": [
    {
     "data": {
      "text/plain": "164"
     },
     "execution_count": 2,
     "metadata": {},
     "output_type": "execute_result"
    }
   ],
   "source": [
    "with open( 'results/gpt4_humaneval.jsonl', \"r\") as f:\n",
    "    gpt4_HumanEval = [json.loads(x) for x in f.read().strip().split(\"\\n\") ]\n",
    "len(gpt4_HumanEval)"
   ]
  },
  {
   "cell_type": "code",
   "execution_count": 3,
   "metadata": {
    "ExecuteTime": {
     "end_time": "2024-03-10T17:00:27.386775Z",
     "start_time": "2024-03-10T17:00:27.371860Z"
    }
   },
   "outputs": [
    {
     "data": {
      "text/plain": "1284"
     },
     "execution_count": 3,
     "metadata": {},
     "output_type": "execute_result"
    }
   ],
   "source": [
    "len( gpt4_HumanEval[10]['gen_completion'])"
   ]
  },
  {
   "cell_type": "code",
   "execution_count": 4,
   "metadata": {
    "ExecuteTime": {
     "end_time": "2024-03-10T17:00:50.339338Z",
     "start_time": "2024-03-10T17:00:50.324451Z"
    }
   },
   "outputs": [
    {
     "data": {
      "text/plain": "{'question': 'Provide me the Python3 codes for sovling the question: \\n\\ndef same_chars(s0: str, s1: str):\\n    \"\"\"\\n    Check if two words have the same characters.\\n    >>> same_chars(\\'eabcdzzzz\\', \\'dddzzzzzzzddeddabc\\')\\n    True\\n    >>> same_chars(\\'abcd\\', \\'dddddddabc\\')\\n    True\\n    >>> same_chars(\\'dddddddabc\\', \\'abcd\\')\\n    True\\n    >>> same_chars(\\'eabcd\\', \\'dddddddabc\\')\\n    False\\n    >>> same_chars(\\'abcd\\', \\'dddddddabce\\')\\n    False\\n    >>> same_chars(\\'eabcdzzzz\\', \\'dddzzzzzzzddddabc\\')\\n    False\\n    \"\"\"\\n',\n 'gold_completion': '    return set(s0) == set(s1)\\n',\n 'gen_completion': \"def same_chars(s0: str, s1: str):\\n    # Use set to get unique characters and sorted to compare them\\n    return sorted(set(s0)) == sorted(set(s1))\\n\\n# Test cases\\nprint(same_chars('eabcdzzzz', 'dddzzzzzzzddeddabc'))  # True\\nprint(same_chars('abcd', 'dddddddabc'))  # True\\nprint(same_chars('dddddddabc', 'abcd'))  # True\\nprint(same_chars('eabcd', 'dddddddabc'))  # False\\nprint(same_chars('abcd', 'dddddddabce'))  # False\\nprint(same_chars('eabcdzzzz', 'dddzzzzzzzddddabc'))  # False\",\n 'pasrsed_codes': \"def same_chars(s0: str, s1: str):\\n    # Use set to get unique characters and sorted to compare them\\n    return sorted(set(s0)) == sorted(set(s1))\\n\\n# Test cases\\nprint(same_chars('eabcdzzzz', 'dddzzzzzzzddeddabc'))  # True\\nprint(same_chars('abcd', 'dddddddabc'))  # True\\nprint(same_chars('dddddddabc', 'abcd'))  # True\\nprint(same_chars('eabcd', 'dddddddabc'))  # False\\nprint(same_chars('abcd', 'dddddddabce'))  # False\\nprint(same_chars('eabcdzzzz', 'dddzzzzzzzddddabc'))  # False\"}"
     },
     "execution_count": 4,
     "metadata": {},
     "output_type": "execute_result"
    }
   ],
   "source": [
    "gpt4_HumanEval[54]"
   ]
  },
  {
   "cell_type": "code",
   "execution_count": 5,
   "metadata": {
    "ExecuteTime": {
     "end_time": "2024-03-10T17:01:17.176034Z",
     "start_time": "2024-03-10T17:01:17.164197Z"
    }
   },
   "outputs": [
    {
     "data": {
      "text/plain": "180.8658536585366"
     },
     "execution_count": 5,
     "metadata": {},
     "output_type": "execute_result"
    }
   ],
   "source": [
    "len_all = [len(x['gold_completion']) for x in gpt4_HumanEval ]\n",
    "sum(len_all)/len(len_all)"
   ]
  },
  {
   "cell_type": "code",
   "execution_count": 6,
   "metadata": {
    "ExecuteTime": {
     "end_time": "2024-03-10T17:01:23.301278Z",
     "start_time": "2024-03-10T17:01:23.281198Z"
    }
   },
   "outputs": [
    {
     "data": {
      "text/plain": "864"
     },
     "execution_count": 6,
     "metadata": {},
     "output_type": "execute_result"
    }
   ],
   "source": [
    "max(len_all)"
   ]
  },
  {
   "cell_type": "code",
   "execution_count": 7,
   "metadata": {
    "ExecuteTime": {
     "end_time": "2024-03-10T17:01:25.677770Z",
     "start_time": "2024-03-10T17:01:25.672735Z"
    }
   },
   "outputs": [],
   "source": [
    "len_all.sort()"
   ]
  },
  {
   "cell_type": "code",
   "execution_count": 8,
   "metadata": {
    "ExecuteTime": {
     "end_time": "2024-03-10T17:01:29.222801Z",
     "start_time": "2024-03-10T17:01:29.203199Z"
    }
   },
   "outputs": [
    {
     "data": {
      "text/plain": "[633, 699, 864]"
     },
     "execution_count": 8,
     "metadata": {},
     "output_type": "execute_result"
    }
   ],
   "source": [
    "len_all[-3:]"
   ]
  },
  {
   "cell_type": "code",
   "execution_count": 9,
   "metadata": {
    "ExecuteTime": {
     "end_time": "2024-03-10T17:01:38.480233Z",
     "start_time": "2024-03-10T17:01:38.472362Z"
    }
   },
   "outputs": [
    {
     "data": {
      "text/plain": "669.1951219512196"
     },
     "execution_count": 9,
     "metadata": {},
     "output_type": "execute_result"
    }
   ],
   "source": [
    "len_all = [len(x['gen_completion']) for x in gpt4_HumanEval ]\n",
    "sum(len_all)/len(len_all)"
   ]
  },
  {
   "cell_type": "code",
   "execution_count": null,
   "metadata": {},
   "outputs": [],
   "source": [
    "from utils import parse_code_snippet\n",
    "\n",
    "for i,instance in enumerate( gpt4_HumanEval):\n",
    "    #pasrsed_codes = parse_code_snippet( prompt=instance['question'], raw_o=instance['gen_completion'] )\n",
    "    #gpt4_HumanEval[i]['pasrsed_codes'] = pasrsed_codes\n",
    "    pasrsed_codes = instance['pasrsed_codes']\n",
    "    if pasrsed_codes.startswith('# CANNOT'):\n",
    "        print(i+1)"
   ]
  },
  {
   "cell_type": "code",
   "execution_count": 10,
   "metadata": {
    "ExecuteTime": {
     "end_time": "2024-03-10T17:02:23.791376Z",
     "start_time": "2024-03-10T17:02:23.781076Z"
    }
   },
   "outputs": [
    {
     "data": {
      "text/plain": "{'question': 'Provide me the Python3 codes for sovling the question: \\ndef encode(message):\\n    \"\"\"\\n    Write a function that takes a message, and encodes in such a \\n    way that it swaps case of all letters, replaces all vowels in \\n    the message with the letter that appears 2 places ahead of that \\n    vowel in the english alphabet. \\n    Assume only letters. \\n    \\n    Examples:\\n    >>> encode(\\'test\\')\\n    \\'TGST\\'\\n    >>> encode(\\'This is a message\\')\\n    \\'tHKS KS C MGSSCGG\\'\\n    \"\"\"\\n',\n 'gold_completion': '    vowels = \"aeiouAEIOU\"\\n    vowels_replace = dict([(i, chr(ord(i) + 2)) for i in vowels])\\n    message = message.swapcase()\\n    return \\'\\'.join([vowels_replace[i] if i in vowels else i for i in message])\\n',\n 'gen_completion': 'Here is the Python3 code for the encode function:\\n\\ndef encode(message):\\n    def swap_case(c):\\n        if c.isupper():\\n            return c.lower()\\n        else:\\n            return c.upper()\\n\\n    def swap_vowel(c):\\n        vowels = \"AEIOUaeiou\"\\n        if c.upper() in vowels:\\n            if c.isupper():\\n                return chr(((ord(c) - ord(\\'A\\') + 2) % 26) + ord(\\'A\\'))\\n            else:\\n                return chr(((ord(c) - ord(\\'a\\') + 2) % 26) + ord(\\'a\\'))\\n        else:\\n            return c\\n\\n    encoded_message = \"\"\\n    for c in message:\\n        if c.isalpha():\\n            encoded_message += swap_vowel(swap_case(c))\\n        else:\\n            encoded_message += c\\n\\n    return encoded_message\\n\\n# Test cases\\nprint(encode(\\'test\\'))  # Output: \\'TGST\\'\\nprint(encode(\\'This is a message\\'))  # Output: \\'tHKS KS C MGSSCGG\\'',\n 'pasrsed_codes': 'def encode(message):\\n    def swap_case(c):\\n        if c.isupper():\\n            return c.lower()\\n        else:\\n            return c.upper()\\n\\n    def swap_vowel(c):\\n        vowels = \"AEIOUaeiou\"\\n        if c.upper() in vowels:\\n            if c.isupper():\\n                return chr(((ord(c) - ord(\\'A\\') + 2) % 26) + ord(\\'A\\'))\\n            else:\\n                return chr(((ord(c) - ord(\\'a\\') + 2) % 26) + ord(\\'a\\'))\\n        else:\\n            return c\\n\\n    encoded_message = \"\"\\n    for c in message:\\n        if c.isalpha():\\n            encoded_message += swap_vowel(swap_case(c))\\n        else:\\n            encoded_message += c\\n\\n    return encoded_message\\n\\n# Test cases\\nprint(encode(\\'test\\'))  # Output: \\'TGST\\'\\nprint(encode(\\'This is a message\\'))  # Output: \\'tHKS KS C MGSSCGG\\''}"
     },
     "execution_count": 10,
     "metadata": {},
     "output_type": "execute_result"
    }
   ],
   "source": [
    "gpt4_HumanEval[93]"
   ]
  },
  {
   "cell_type": "code",
   "execution_count": 11,
   "metadata": {
    "ExecuteTime": {
     "end_time": "2024-03-10T17:07:55.135389Z",
     "start_time": "2024-03-10T17:07:55.116629Z"
    }
   },
   "outputs": [],
   "source": [
    "outputs = []\n",
    "for ins in gpt4_HumanEval:\n",
    "    outputs.append(json.dumps(ins))\n",
    "\n",
    "with open( 'results/chatgpt_humaneval.jsonl', \"w\") as f:\n",
    "    f.write(\"\\n\".join(outputs) + \"\\n\")"
   ]
  },
  {
   "cell_type": "code",
   "execution_count": null,
   "metadata": {},
   "outputs": [],
   "source": []
  },
  {
   "cell_type": "code",
   "execution_count": null,
   "metadata": {},
   "outputs": [],
   "source": []
  },
  {
   "cell_type": "code",
   "execution_count": 13,
   "metadata": {
    "ExecuteTime": {
     "end_time": "2024-03-10T17:08:16.299683Z",
     "start_time": "2024-03-10T17:08:16.290521Z"
    }
   },
   "outputs": [],
   "source": [
    "def get_gpt4_continue(prompt_text, temperature = 0.7, max_tokens=2048):\n",
    "    messages = [{\"role\":\"system\", \"content\": \"You are a helpful assistant that continues the following codes. Make sure to only return continuation codes. Do not return anything else.\"},\n",
    "                {\"role\":\"user\", \"content\": 'The proceding code is provided as: ' + prompt_text}]\n",
    "    response = openai.ChatCompletion.create(\n",
    "                model = \"gpt-4-0314\",\n",
    "                messages = messages,\n",
    "                temperature = temperature,\n",
    "                max_tokens = max_tokens,    \n",
    "                )\n",
    "    return response#['choices'][0]['message']['content']"
   ]
  },
  {
   "cell_type": "code",
   "execution_count": 12,
   "metadata": {
    "ExecuteTime": {
     "end_time": "2024-03-10T17:08:12.456226Z",
     "start_time": "2024-03-10T17:08:11.488030Z"
    }
   },
   "outputs": [
    {
     "ename": "NameError",
     "evalue": "name 'get_gpt4_continue' is not defined",
     "output_type": "error",
     "traceback": [
      "\u001B[1;31m---------------------------------------------------------------------------\u001B[0m",
      "\u001B[1;31mNameError\u001B[0m                                 Traceback (most recent call last)",
      "Cell \u001B[1;32mIn[12], line 3\u001B[0m\n\u001B[0;32m      1\u001B[0m parsed_code \u001B[38;5;241m=\u001B[39m gpt4_HumanEval[\u001B[38;5;241m85\u001B[39m][\u001B[38;5;124m'\u001B[39m\u001B[38;5;124mpasrsed_codes\u001B[39m\u001B[38;5;124m'\u001B[39m]\n\u001B[0;32m      2\u001B[0m parsed_code \u001B[38;5;241m=\u001B[39m parsed_code[ :\u001B[38;5;28mint\u001B[39m( \u001B[38;5;241m0.7\u001B[39m\u001B[38;5;241m*\u001B[39m\u001B[38;5;28mlen\u001B[39m(parsed_code)) ]\n\u001B[1;32m----> 3\u001B[0m response \u001B[38;5;241m=\u001B[39m \u001B[43mget_gpt4_continue\u001B[49m( prompt_text \u001B[38;5;241m=\u001B[39m parsed_code )\n",
      "\u001B[1;31mNameError\u001B[0m: name 'get_gpt4_continue' is not defined"
     ]
    }
   ],
   "source": [
    "parsed_code = gpt4_HumanEval[85]['pasrsed_codes']\n",
    "parsed_code = parsed_code[ :int( 0.7*len(parsed_code)) ]\n",
    "response = get_gpt4_continue( prompt_text = parsed_code )"
   ]
  },
  {
   "cell_type": "code",
   "execution_count": null,
   "metadata": {},
   "outputs": [],
   "source": [
    "response['choices'][0]['message']['content']"
   ]
  },
  {
   "cell_type": "code",
   "execution_count": null,
   "metadata": {},
   "outputs": [],
   "source": [
    "parsed_code"
   ]
  },
  {
   "cell_type": "code",
   "execution_count": null,
   "metadata": {},
   "outputs": [],
   "source": [
    "HUMANEVAL_EOS = [\"\\nclass\", \"\\ndef\", \"\\n#\", \"\\n@\", \"\\nprint\", \"\\nif\"]\n",
    "NON_CODE_EOS = [\"<|endoftext|>\", \"\\n```\", \"\\n</s>\", \"<|endofmask|>\"]\n",
    "EOS = HUMANEVAL_EOS + NON_CODE_EOS\n",
    "\n",
    "def find_gen_func_sig(prompt):\n",
    "    func_sig = \"\"\n",
    "    for x in prompt.splitlines():\n",
    "        if x.startswith(\"def \") and x.endswith(\":\"):\n",
    "            # always pick the last one, since there could pre-defined functions.\n",
    "            func_sig = x\n",
    "    return func_sig\n",
    "\n",
    "def remove_eos(gen):\n",
    "    min_index = 1000\n",
    "    for eos in EOS:\n",
    "        if eos in gen:\n",
    "            min_index = min(min_index, gen.index(eos))\n",
    "    return gen[:min_index]"
   ]
  },
  {
   "cell_type": "code",
   "execution_count": null,
   "metadata": {},
   "outputs": [],
   "source": []
  },
  {
   "cell_type": "code",
   "execution_count": null,
   "metadata": {},
   "outputs": [],
   "source": [
    "idx = 0\n",
    "raw_o = chatgpt_python_codecontest[idx]['gen_completion'] # response['choices'][0]['message']['content'] #\n",
    "prompt = chatgpt_python_codecontest[idx]['question']\n",
    "if \"```\" in raw_o:\n",
    "    gen = raw_o.split(\"```\")[1].strip()\n",
    "    if gen.startswith(\"python\"):\n",
    "        gen = gen[len(\"python\") :].strip()\n",
    "    if gen.startswith(prompt.strip()):\n",
    "        suf = gen.split(prompt.strip())[-1]\n",
    "        suf = remove_eos(suf)\n",
    "        gen = prompt.strip() + suf\n",
    "    elif find_gen_func_sig(prompt) == '':\n",
    "        gen = gen\n",
    "    elif find_gen_func_sig(prompt) in gen:\n",
    "        # same function sign is in the prompt\n",
    "        sig = find_gen_func_sig(prompt)\n",
    "        pre, suf = gen.split(sig)[0], gen.split(sig)[-1]\n",
    "        suf = remove_eos(suf)\n",
    "        gen = pre + sig + suf\n",
    "    else:\n",
    "        gen = f\"# CANNOT PARSE CODE SNIPPET\\n{gen}\"\n",
    "else:\n",
    "    # cannot really handle parse just dump to file and maybe process later.\n",
    "    gen = f\"# CANNOT PARSE\\n{raw_o}\"\n",
    "gen\n"
   ]
  },
  {
   "cell_type": "code",
   "execution_count": null,
   "metadata": {},
   "outputs": [],
   "source": [
    "gen = raw_o.split(\"```\")[1].strip()"
   ]
  },
  {
   "cell_type": "code",
   "execution_count": null,
   "metadata": {},
   "outputs": [],
   "source": []
  },
  {
   "cell_type": "code",
   "execution_count": null,
   "metadata": {},
   "outputs": [],
   "source": [
    "def call_edit(prompt_text, temperature = 0.7, max_tokens=2048):\n",
    "\n",
    "    response = openai.Edit.create( model = \"text-davinci-edit-001\",\n",
    "                                   input = prompt_text,\n",
    "                                   instruction=\"make minimal modifications to rewrite the codes and maintain the same functionality \",\n",
    "                                   temperature=temperature,\n",
    "                                    #max_tokens=max_tokens,\n",
    "                                      )\n",
    "    return response"
   ]
  },
  {
   "cell_type": "code",
   "execution_count": null,
   "metadata": {},
   "outputs": [],
   "source": [
    "response = call_edit( prompt_text = chatgpt_python_codecontest[0]['gen_completion'] )\n",
    "response"
   ]
  },
  {
   "cell_type": "code",
   "execution_count": null,
   "metadata": {},
   "outputs": [],
   "source": [
    "idx = 0\n",
    "chatgpt_python_codecontest[idx]['gen_completion']['choices'][0]['text'][len( chatgpt_python_codecontest[idx]['question'] ): ]"
   ]
  },
  {
   "cell_type": "code",
   "execution_count": null,
   "metadata": {},
   "outputs": [],
   "source": [
    "int(0.7*537)"
   ]
  },
  {
   "cell_type": "code",
   "execution_count": null,
   "metadata": {},
   "outputs": [],
   "source": []
  },
  {
   "cell_type": "code",
   "execution_count": null,
   "metadata": {},
   "outputs": [],
   "source": [
    "with open( 'results/regen_gpt-4-0314_20_0.7.jsonl', \"r\") as f:\n",
    "    regen_gpt4 = [json.loads(x) for x in f.read().strip().split(\"\\n\") ]\n",
    "len(regen_gpt4)"
   ]
  },
  {
   "cell_type": "code",
   "execution_count": null,
   "metadata": {},
   "outputs": [],
   "source": [
    "regen_gpt4[8]['human_gen_text']#['choices']"
   ]
  },
  {
   "cell_type": "code",
   "execution_count": null,
   "metadata": {},
   "outputs": [],
   "source": []
  },
  {
   "cell_type": "code",
   "execution_count": null,
   "metadata": {},
   "outputs": [],
   "source": [
    "with open( 'results/regen_gpt-3.5-turbo_10_0.5_2nd.jsonl', \"r\") as f:\n",
    "    regen_gpt4_01 = [json.loads(x) for x in f.read().strip().split(\"\\n\") ]\n",
    "len(regen_gpt4_01)"
   ]
  },
  {
   "cell_type": "code",
   "execution_count": null,
   "metadata": {},
   "outputs": [],
   "source": [
    "with open( 'results/regen_gpt-3.5-turbo_10_0.5.jsonl', \"r\") as f:\n",
    "    regen_gpt4_02 = [json.loads(x) for x in f.read().strip().split(\"\\n\") ]\n",
    "len(regen_gpt4_02)"
   ]
  },
  {
   "cell_type": "code",
   "execution_count": null,
   "metadata": {},
   "outputs": [],
   "source": [
    "new_outputs = []\n",
    "for i,ins in enumerate(regen_gpt4_01):\n",
    "    temp = ins\n",
    "    temp2 = ins['human_gen_text']['choices'] + regen_gpt4_02[i]['human_gen_text']['choices']\n",
    "    temp['human_gen_text']['choices'] = temp2[:]\n",
    "\n",
    "    temp3 = ins['machine_gen_text']['choices'] + regen_gpt4_02[i]['machine_gen_text']['choices']\n",
    "    temp['machine_gen_text']['choices'] = temp3[:]\n",
    "\n",
    "    new_outputs.append(json.dumps( temp) )"
   ]
  },
  {
   "cell_type": "code",
   "execution_count": null,
   "metadata": {},
   "outputs": [],
   "source": [
    "temp = []\n",
    "for ins in new_outputs:\n",
    "    temp.append( ins )\n",
    "    with open( 'results/regen_gpt-3.5-turbo_20_0.5.jsonl', \"w\") as f:\n",
    "        f.write(\"\\n\".join(temp) + \"\\n\")"
   ]
  },
  {
   "cell_type": "code",
   "execution_count": null,
   "metadata": {},
   "outputs": [],
   "source": []
  },
  {
   "cell_type": "code",
   "execution_count": null,
   "metadata": {},
   "outputs": [],
   "source": []
  }
 ],
 "metadata": {
  "kernelspec": {
   "display_name": "prompt",
   "language": "python",
   "name": "python3"
  },
  "language_info": {
   "codemirror_mode": {
    "name": "ipython",
    "version": 3
   },
   "file_extension": ".py",
   "mimetype": "text/x-python",
   "name": "python",
   "nbconvert_exporter": "python",
   "pygments_lexer": "ipython3",
   "version": "3.8.15"
  },
  "orig_nbformat": 4
 },
 "nbformat": 4,
 "nbformat_minor": 2
}
