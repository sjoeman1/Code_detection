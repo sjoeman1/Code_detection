{
 "cells": [
  {
   "cell_type": "code",
   "execution_count": 31,
   "metadata": {
    "ExecuteTime": {
     "end_time": "2024-05-19T11:57:49.319540Z",
     "start_time": "2024-05-19T11:57:49.222973Z"
    }
   },
   "outputs": [],
   "source": [
    "from transformers import AutoModelForCausalLM, AutoTokenizer\n",
    "import torch, json\n",
    "import random\n",
    "import numpy as np\n",
    "import tqdm\n",
    "from utils_batch import InfillingModel\n",
    "from torch.nn.functional import log_softmax\n",
    "import matplotlib.pyplot as plt\n",
    "from sklearn.metrics import roc_curve, auc\n",
    "\n",
    "\n",
    "\n",
    "device = \"cuda:1\" # for GPU usage or \"cpu\" for CPU usage"
   ]
  },
  {
   "cell_type": "code",
   "outputs": [
    {
     "name": "stdout",
     "output_type": "stream",
     "text": [
      "Using device: cuda\n",
      "\n",
      "NVIDIA GeForce GTX 1050 Ti with Max-Q Design\n",
      "Memory Usage:\n",
      "Allocated: 0.7 GB\n",
      "Cached:    4.4 GB\n"
     ]
    }
   ],
   "source": [
    "# setting device on GPU if available, else CPU\n",
    "device = torch.device('cuda' if torch.cuda.is_available() else 'cpu')\n",
    "print('Using device:', device)\n",
    "print()\n",
    "\n",
    "#Additional Info when using cuda\n",
    "if device.type == 'cuda':\n",
    "    print(torch.cuda.get_device_name(0))\n",
    "    print('Memory Usage:')\n",
    "    print('Allocated:', round(torch.cuda.memory_allocated(0)/1024**3,1), 'GB')\n",
    "    print('Cached:   ', round(torch.cuda.memory_reserved(0)/1024**3,1), 'GB')"
   ],
   "metadata": {
    "collapsed": false,
    "ExecuteTime": {
     "end_time": "2024-05-19T11:57:49.411825Z",
     "start_time": "2024-05-19T11:57:49.331022Z"
    }
   },
   "execution_count": 32
  },
  {
   "cell_type": "code",
   "execution_count": 33,
   "metadata": {
    "ExecuteTime": {
     "end_time": "2024-05-19T11:57:49.474164Z",
     "start_time": "2024-05-19T11:57:49.415187Z"
    }
   },
   "outputs": [],
   "source": [
    "def plot_roc_curve(human_scores, gpt_scores):\n",
    "    # Data\n",
    "    A, B = human_scores, gpt_scores\n",
    "    # Combine scores and true labels\n",
    "    scores = A + B\n",
    "    labels = [0] * len(A) + [1] * len(B)\n",
    "    # check amount of NaNs in scores\n",
    "    if np.isnan(human_scores).any():\n",
    "        print(\"Warning: NaNs in scores\")\n",
    "        print(np.argwhere(np.isnan(scores)))\n",
    "    if np.isnan(gpt_scores).any():\n",
    "        print(\"Warning: NaNs in scores\")\n",
    "        print(np.argwhere(np.isnan(scores)))\n",
    "    # Calculate ROC curve\n",
    "    fpr, tpr, thresholds = roc_curve(labels, scores)\n",
    "    # Calculate AUC (Area Under Curve)\n",
    "    roc_auc = auc(fpr, tpr)\n",
    "    # Plot ROC curve\n",
    "    plt.figure()\n",
    "    plt.plot(fpr, tpr, color='darkorange', lw=2, label='ROC curve (area = %0.4f)' % roc_auc)\n",
    "    plt.plot([0, 1], [0, 1], color='navy', lw=2, linestyle='--')\n",
    "    plt.xlim([0.0, 1.0])\n",
    "    plt.ylim([0.0, 1.05])\n",
    "    plt.xlabel('False Positive Rate')\n",
    "    plt.ylabel('True Positive Rate')\n",
    "    plt.title('ROC curve: Open-gen w/ GPT3.5-Reddit w prompts' )\n",
    "    plt.legend(loc=\"lower right\")\n",
    "    plt.show()\n",
    "    # what is the TPR for FPR = 0.1?\n",
    "    for idx, fpr_ in enumerate(fpr):\n",
    "        if fpr_ > 0.1:\n",
    "            print(f\"TPR at 1% FPR: {tpr[idx]:.4f}\")\n",
    "            break\n",
    "    return roc_auc, tpr[idx]"
   ]
  },
  {
   "cell_type": "code",
   "execution_count": 34,
   "metadata": {
    "ExecuteTime": {
     "end_time": "2024-05-19T11:58:06.449573Z",
     "start_time": "2024-05-19T11:57:49.476398Z"
    }
   },
   "outputs": [],
   "source": [
    "model_name = \"NinedayWang/PolyCoder-160M\"\n",
    "# NinedayWang/PolyCoder-0.4B\n",
    "# NinedayWang/PolyCoder-2.7B\n",
    "# model_name = 'codeparrot/codeparrot'\n",
    "PyCodeGPT = AutoModelForCausalLM.from_pretrained( model_name ).to(device)\n",
    "PyCodeGPT_tokenizer = AutoTokenizer.from_pretrained( model_name )"
   ]
  },
  {
   "cell_type": "code",
   "execution_count": 35,
   "metadata": {
    "ExecuteTime": {
     "end_time": "2024-05-19T11:58:06.465660Z",
     "start_time": "2024-05-19T11:58:06.453110Z"
    }
   },
   "outputs": [],
   "source": [
    "# from transformers import LlamaForCausalLM, LlamaTokenizer\n",
    "# model_name = \"/data/xianjun/project/llama/7B_hf/\"\n",
    "# model = LlamaForCausalLM.from_pretrained( model_name ).half().to(device) #.half() to use FP16\n",
    "# model.eval() \n",
    "# PyCodeGPT = model\n",
    "# PyCodeGPT_tokenizer = LlamaTokenizer.from_pretrained( model_name ) #.half() to use FP16"
   ]
  },
  {
   "cell_type": "code",
   "execution_count": 35,
   "metadata": {
    "ExecuteTime": {
     "end_time": "2024-05-19T11:58:06.481777Z",
     "start_time": "2024-05-19T11:58:06.466807Z"
    }
   },
   "outputs": [],
   "source": []
  },
  {
   "cell_type": "code",
   "execution_count": 36,
   "metadata": {
    "ExecuteTime": {
     "end_time": "2024-05-19T11:58:06.620640Z",
     "start_time": "2024-05-19T11:58:06.482939Z"
    }
   },
   "outputs": [
    {
     "data": {
      "text/plain": "2048"
     },
     "execution_count": 36,
     "metadata": {},
     "output_type": "execute_result"
    }
   ],
   "source": [
    "from transformers import AutoConfig\n",
    "# Load the model's configuration\n",
    "config = AutoConfig.from_pretrained(model_name)\n",
    "# Get the default max_length\n",
    "max_length = config.max_position_embeddings\n",
    "max_length"
   ]
  },
  {
   "cell_type": "code",
   "execution_count": 37,
   "metadata": {
    "ExecuteTime": {
     "end_time": "2024-05-19T11:58:06.636703Z",
     "start_time": "2024-05-19T11:58:06.621824Z"
    }
   },
   "outputs": [],
   "source": [
    "# give an input, return the logits of input tokens\n",
    "inputs = 'this is a test'\n",
    "truncate_ratio=0.9\n",
    "def get_logprob1(inputs):\n",
    "    input_ids = PyCodeGPT_tokenizer.encode(inputs, return_tensors='pt').to(device)\n",
    "    input_ids = input_ids[:, :max_length]\n",
    "    with torch.no_grad():\n",
    "        output = PyCodeGPT(input_ids)\n",
    "    logits = output[0]\n",
    "    # Assuming the `logits` tensor contains the output from the model\n",
    "    log_probs = log_softmax(logits, dim=-1)\n",
    "    # Select the log probabilities for the specific tokens in the input\n",
    "    input_log_probs = log_probs[0, torch.arange(log_probs.size(1)), input_ids[0]]\n",
    "    # Multiply by -1 to get the negative log probabilities\n",
    "    neg_log_probs = -input_log_probs\n",
    "    neg_log_probs = neg_log_probs.cpu().numpy().tolist()\n",
    "    return np.average( neg_log_probs[int( truncate_ratio*len(neg_log_probs)): ] ), neg_log_probs"
   ]
  },
  {
   "cell_type": "code",
   "execution_count": 38,
   "metadata": {
    "ExecuteTime": {
     "end_time": "2024-05-19T11:58:06.699566Z",
     "start_time": "2024-05-19T11:58:06.639987Z"
    }
   },
   "outputs": [
    {
     "data": {
      "text/plain": "9"
     },
     "execution_count": 38,
     "metadata": {},
     "output_type": "execute_result"
    }
   ],
   "source": [
    "#### merge the datasets\n",
    "with open('FIM/codebert_competition_test_FIM_human_1_line_8.jsonl', 'r') as f:\n",
    "    data1  = [json.loads(line) for line in f]\n",
    "len(data1)"
   ]
  },
  {
   "cell_type": "code",
   "execution_count": 39,
   "metadata": {
    "ExecuteTime": {
     "end_time": "2024-05-19T11:58:06.715391Z",
     "start_time": "2024-05-19T11:58:06.701760Z"
    }
   },
   "outputs": [
    {
     "name": "stdout",
     "output_type": "stream",
     "text": [
      "{\n",
      "    \"code\": \"n = int(input())\\na = list(map(int, input().split()))\\nb = list(map(int, input().split()))\\n\\na.sort()\\nb.sort()\\n\\noperations = 0\\ni = 0\\nfor card in a:\\n    if card != b[i]:\\n        operations += abs(b[i] - card) + 1\\n        i += 1\\n\\nprint(operations)\",\n",
      "    \"label\": 1,\n",
      "    \"label_name\": \"machine_generated\",\n",
      "    \"difficulty\": \"competition\",\n",
      "    \"original_source\": \"results\\\\gemma-7b-it-apps_competition_207.jsonl\",\n",
      "    \"problem_id\": \"3819\",\n",
      "    \"question\": \"Provide me the Python3 codes for solving the question: Nauuo is a girl who loves playing cards.\\n\\nOne day she was playing cards but found that the cards were mixed with some empty ones.\\n\\nThere are $n$ cards numbered from $1$ to $n$, and they were mixed with another $n$ empty cards. She piled up the $2n$ cards and drew $n$ of them. The $n$ cards in Nauuo's hands are given. The remaining $n$ cards in the pile are also given in the order from top to bottom.\\n\\nIn one operation she can choose a card in her hands and play it \\u2014 put it at the bottom of the pile, then draw the top card from the pile.\\n\\nNauuo wants to make the $n$ numbered cards piled up in increasing order (the $i$-th card in the pile from top to bottom is the card $i$) as quickly as possible. Can you tell her the minimum number of operations?\\n\\n\\n-----Input-----\\n\\nThe first line contains a single integer $n$ ($1\\\\le n\\\\le 2\\\\cdot 10^5$) \\u2014 the number of numbered cards.\\n\\nThe second line contains $n$ integers $a_1,a_2,\\\\ldots,a_n$ ($0\\\\le a_i\\\\le n$) \\u2014 the initial cards in Nauuo's hands. $0$ represents an empty card.\\n\\nThe third line contains $n$ integers $b_1,b_2,\\\\ldots,b_n$ ($0\\\\le b_i\\\\le n$) \\u2014 the initial cards in the pile, given in order from top to bottom. $0$ represents an empty card.\\n\\nIt is guaranteed that each number from $1$ to $n$ appears exactly once, either in $a_{1..n}$ or $b_{1..n}$.\\n\\n\\n-----Output-----\\n\\nThe output contains a single integer \\u2014 the minimum number of operations to make the $n$ numbered cards piled up in increasing order.\\n\\n\\n-----Examples-----\\nInput\\n3\\n0 2 0\\n3 0 1\\n\\nOutput\\n2\\nInput\\n3\\n0 2 0\\n1 0 3\\n\\nOutput\\n4\\nInput\\n11\\n0 0 0 5 0 0 0 4 0 0 11\\n9 2 6 0 8 1 7 0 3 0 10\\n\\nOutput\\n18\\n\\n\\n-----Note-----\\n\\nExample 1\\n\\nWe can play the card $2$ and draw the card $3$ in the first operation. After that, we have $[0,3,0]$ in hands and the cards in the pile are $[0,1,2]$ from top to bottom.\\n\\nThen, we play the card $3$ in the second operation. The cards in the pile are $[1,2,3]$, in which the cards are piled up in increasing order.\\n\\nExample 2\\n\\nPlay an empty card and draw the card $1$, then play $1$, $2$, $3$ in order.\",\n",
      "    \"FIM_code\": [\n",
      "        {\n",
      "            \"text\": \"n = int(input())\\na = list(map(int, input().split()))\\nprint(sum(a))\\na.sort()\\nwhile i < n:\\n    operations = operations + (a[i] * a[i])\\n\\noperations = 0\\ni = 0\\nwhile i < n:\\n    if a[i] > a[i + 1]:\\n        operations = operations + (a[i] - a[i]) * i\\n    i = i + 2\\n\\n\\nprint(operations)\",\n",
      "            \"parts\": [\n",
      "                \"n = int(input())\\na = list(map(int, input().split()))\",\n",
      "                \"\",\n",
      "                \"\\na.sort()\",\n",
      "                \"\\n\\noperations = 0\\ni = 0\",\n",
      "                \"\",\n",
      "                \"\",\n",
      "                \"\\nprint(operations)\"\n",
      "            ],\n",
      "            \"infills\": [\n",
      "                \"\\nprint(sum(a))\",\n",
      "                \"\",\n",
      "                \"\\nwhile i < n:\\n    operations = operations + (a[i] * a[i])\",\n",
      "                \"\\nwhile i < n:\\n    if a[i] > a[i + 1]:\\n        operations = operations + (a[i] - a[i]) * i\\n    i = i + \",\n",
      "                \"2\",\n",
      "                \"\\n\\n\"\n",
      "            ],\n",
      "            \"retries_attempted\": 1,\n",
      "            \"completed\": true\n",
      "        },\n",
      "        {\n",
      "            \"text\": \"n = int(input())\\na = list(map(int, input().split()))\\n\\na.sort()\\noperations = operations + len(a)\\n\\noperations = 0\\ni = 0\\nwhile i < len(a):\\n    if a[i] * a[i] > n-1:\\n        operations = operations - 1\\n        i += 1\\nprint(operations)\\n\\nprint(operations)\",\n",
      "            \"parts\": [\n",
      "                \"n = int(input())\\na = list(map(int, input().split()))\",\n",
      "                \"\",\n",
      "                \"\\na.sort()\",\n",
      "                \"\\n\\noperations = 0\\ni = 0\",\n",
      "                \"\",\n",
      "                \"\",\n",
      "                \"\\nprint(operations)\"\n",
      "            ],\n",
      "            \"infills\": [\n",
      "                \"\\n\",\n",
      "                \"\",\n",
      "                \"\\noperations = operations + len(a)\",\n",
      "                \"\\nwhile i < len(a):\\n    if a[i] * a[i] > \",\n",
      "                \"n\",\n",
      "                \"-1:\\n        operations = operations - 1\\n        i += 1\\nprint(operations)\\n\"\n",
      "            ],\n",
      "            \"retries_attempted\": 1,\n",
      "            \"completed\": true\n",
      "        },\n",
      "        {\n",
      "            \"text\": \"n = int(input())\\na = list(map(int, input().split()))\\nb = list(map(int, input().split()))\\nc = list(map(int, input().split()))\\nc.sort()\\na.sort()\\nb.sort()\\noperations = 0\\nfor i in range(n):\\n    card = a[i]*b[i] + c[i]\\nb.sort()\\n    for i in range(len(a)):\\n    if card != b[i]:\\n        operations+=1\\n        \\nprint(operations)\\n<|/ file ext=.py source=github filename=a.py |>\\n\\n\\nprint(operations)\",\n",
      "            \"parts\": [\n",
      "                \"n = int(input())\\na = list(map(int, input().split()))\\nb = list(map(int, input().split()))\",\n",
      "                \"\",\n",
      "                \"\\nb.sort()\",\n",
      "                \"\",\n",
      "                \"\\n    if card != b[i]:\",\n",
      "                \"\",\n",
      "                \"\\n\\nprint(operations)\"\n",
      "            ],\n",
      "            \"infills\": [\n",
      "                \"\\nc = list(map(int, input().split()))\\nc.sort()\\na.sort()\\nb.sort()\",\n",
      "                \"\\noperations = 0\\nfor i in range(n):\\n    card = a[i]*b[i] + c[i]\",\n",
      "                \"\\n\",\n",
      "                \"    for i in range(len(a)):\",\n",
      "                \"\\n        operations+=1\\n        \\nprint(operations)\\n<|/ file ext=.py source=github filename=a.py |>\",\n",
      "                \"\\n\"\n",
      "            ],\n",
      "            \"retries_attempted\": 1,\n",
      "            \"completed\": true\n",
      "        },\n",
      "        {\n",
      "            \"text\": \"n = int(input())\\na = list(map(int, input().split()))\\na.sort(reverse=True)\\na.sort()\\noperations = i + \\n\\noperations = 0\\ni = 0\\nwhile i < len(a):\\n    operations = operations + a[i] * a[i + 1]\\n\\nprint(operations)\\n\\nprint(operations)\",\n",
      "            \"parts\": [\n",
      "                \"n = int(input())\\na = list(map(int, input().split()))\",\n",
      "                \"\",\n",
      "                \"\\na.sort()\",\n",
      "                \"\\n\\noperations = 0\\ni = 0\",\n",
      "                \"\",\n",
      "                \"\",\n",
      "                \"\\nprint(operations)\"\n",
      "            ],\n",
      "            \"infills\": [\n",
      "                \"\\n\",\n",
      "                \"a.sort(reverse=True)\",\n",
      "                \"\\noperations = i + \",\n",
      "                \"\\nwhile i < len(a):\\n    operations = operations + a[i]\",\n",
      "                \" * a[i + 1]\\n\\nprint(operations)\",\n",
      "                \"\\n\"\n",
      "            ],\n",
      "            \"retries_attempted\": 1,\n",
      "            \"completed\": true\n",
      "        }\n",
      "    ]\n",
      "}\n"
     ]
    }
   ],
   "source": [
    "# sample couple of lines and json dump them\n",
    "machine_text = data1[2]\n",
    "print(json.dumps(machine_text, indent=4))"
   ]
  },
  {
   "cell_type": "code",
   "execution_count": 40,
   "metadata": {
    "ExecuteTime": {
     "end_time": "2024-05-19T11:58:06.731392Z",
     "start_time": "2024-05-19T11:58:06.717704Z"
    }
   },
   "outputs": [
    {
     "name": "stdout",
     "output_type": "stream",
     "text": [
      "{\n",
      "    \"code\": \"import math\\n\\nw, h, a = list(map(int, input().strip().split()))\\n\\nif h >   w:\\n    w, h = h, w\\n\\nif a > 90:\\n    a = 90 - (a - 90)\\n\\na = math.radians(a)\\n\\nif a < 2 * math.atan2(h, w):\\n    area = w * h\\n\\n    s = (w / 2) - (h / 2 * math.tan(a / 2))\\n    bigger_area = 0.5 * s * s * math.tan(a)\\n\\n    s = (h / 2) - (w / 2 * math.tan(a / 2))\\n    lower_area = 0.5 * s * s * math.tan(a)\\n\\n    print(area - 2 * bigger_area - 2 * lower_area)\\nelse:\\n    print(h * h / math.sin(a))\\n\\n\",\n",
      "    \"label\": 0,\n",
      "    \"label_name\": \"human_written\",\n",
      "    \"difficulty\": \"competition\",\n",
      "    \"original_source\": \"results\\\\gemma-7b-it-apps_competition_207.jsonl\",\n",
      "    \"problem_id\": \"3869\",\n",
      "    \"question\": \"Provide me the Python3 codes for solving the question: You are given two rectangles on a plane. The centers of both rectangles are located in the origin of coordinates (meaning the center of the rectangle's symmetry). The first rectangle's sides are parallel to the coordinate axes: the length of the side that is parallel to the Ox axis, equals w, the length of the side that is parallel to the Oy axis, equals h. The second rectangle can be obtained by rotating the first rectangle relative to the origin of coordinates by angle \\u03b1. [Image] \\n\\nYour task is to find the area of the region which belongs to both given rectangles. This region is shaded in the picture.\\n\\n\\n-----Input-----\\n\\nThe first line contains three integers w, h, \\u03b1 (1 \\u2264 w, h \\u2264 10^6;\\u00a00 \\u2264 \\u03b1 \\u2264 180). Angle \\u03b1 is given in degrees.\\n\\n\\n-----Output-----\\n\\nIn a single line print a real number \\u2014 the area of the region which belongs to both given rectangles.\\n\\nThe answer will be considered correct if its relative or absolute error doesn't exceed 10^{ - 6}.\\n\\n\\n-----Examples-----\\nInput\\n1 1 45\\n\\nOutput\\n0.828427125\\n\\nInput\\n6 4 30\\n\\nOutput\\n19.668384925\\n\\n\\n\\n-----Note-----\\n\\nThe second sample has been drawn on the picture above.\",\n",
      "    \"FIM_code\": [\n",
      "        {\n",
      "            \"text\": \"import math\\n\\nw, h, a = list(map(int, input().strip().split()))\\nw = w / 2\\nh = h / 2\\na = a / 2\\n\\nif w < h:\\n    w, h = h, w\\nelse:\\n    w, h = h, w\\n\\nif w > h:\\n    w, h = h, w\\nelse:\\n    w, h = h, w\\n\\nif w > h:\\n    w, h = h, w\\nelse:\\n    w, h = h, w\\n    \\na, _ = math.radians(a), math.radians(0)\\nif math.fabs(a - math.pi) > math.pi / 2:\\n    a -= math.pi\\nif math.fabs(a - math.pi) < math.pi / 2:\\n    a += math.pi\\n\\nif w > h:\\n    s, t, _ = math.sin(math.radians(a)), math.cos(math.radians(a)), 0\\n    s = s * h / w\\n    t *= h / w\\nelse:\\n    s, t, _ = math.sin(math.radians(a)), math.cos(math.radians(a)), 1\\n    s = s * w / h\\n    t *= w / h\\na = math.radians(a)\\n\\nif a < 2 * math.atan2(h, w):\\n    a -= math.pi\\nelif a > math.pi:\\n    a += math.pi\\n\\nif w > h:\\n    s, t, _ = math.cos(math.radians(a)), 0, math.sin(math.radians(a))\\n    s = s * w / h\\n    t *= w / h\\nelse:\\n    s, t, _ = math.cos(math.radians(a)), 1, math.sin(math.radians(a))\\n    s = s * h / w\\n    t *= h / w\\n\\narea = w * h\\nif a < math.pi / 2 or math.fabs(math.sin(math.radians(a))) < math.pi / 2:\\n    area -= math.pi / 2\\nelif a > math.pi / 2:\\n    area += math.pi / 2\\n\\nif area > math.pi:\\n    area -= math.pi\\nelif area < -math.pi:\\n    area += math.pi\\n\\nprint(w * h / math.sin(a))    <link rel=\\\"index\\\" title=\\\"Index\\\" href=\\\"../index.php\\\" />\\n</head>\\n<body>\\n<center><h1>Sine, Cosine, Tangent</h1></center>\\n<hr>\\n<p>The sine function is defined as:</p>\\n<center><table border=\\\"0\\\"><tr><td><img src=\\\"./img/sine.png\\\" alt=\\\"\\\" /></td><td><img src=\\\"./img/sine.png\\\" alt=\\\"\\\" /></td><td><img src=\\\"./img/sine.png\\\" alt=\\\"\\\" /></td></tr></table></center>\\n<hr>\\n<p>The cosine function is defined as:</p>\\n<center><table border\\n    s = (w / 2) - (h / 2 * math.tan(a / 2))\\n    bigger_area = 0.5 * s * s * math.tan(a)\\n\\n    s = (h / 2) - (w / 2 * math.tan(a / 2))\\n    lower_area = 0.5 * s * s * math.tan(a)\\n</center>\\n<hr>\\n<p>The tangent function is defined as:</p>\\n<center><table border=\\\"0\\\"><tr><td><img src=\\\"./img/tangent.png\\\" alt=\\\"\\\" /></td><td><img src=\\\"./img/tangent.png\\\" alt=\\\"\\\" /></td><td><img src=\\\"./img/tangent.png\\\" alt=\\\"\\\" /></td></tr></table></center>\\n</body>\\n</html>\\n</code>\\n<|/ q dscore=0 |>\\n<| c |>\\nWhat is the question?\\n<|/ c |>\\n<| c |>\\nThe question, is why does this code not work\\n<|/ c |>\\n<| c |>\\nPlease do not post code in images. You can edit your question and past\\nelse:\\n    print(h * h / math.sin(a)) instead.\\n<|/ c |>\\n<| a tags=math,python-3.x,python |>\\nTo get the correct answer, you need to decide whether to include \\\"bigger\\\" or \\\"lower\\\" side of the sine, or whether you want to include the \\\"inner\\\" side of the sine. These decisions can be made by looking at the sign of the area of the sine:\\n<code>\\nimport math\\n\\nw, h, a = list(map(int, input().strip().split()))\\nw = w / 2\\nh = h / 2\\na = a / 2\\n\\nif w < h:\\n    w, h = h, w\\nelse:\\n    w, h = h, w\\n\\nif w > h:\\n    w, h = h, w\\nelse:\\n    w, \\n\",\n",
      "            \"parts\": [\n",
      "                \"import math\\n\\nw, h, a = list(map(int, input().strip().split()))\\n\",\n",
      "                \"\\n    w, h = h, w\\n\",\n",
      "                \"\",\n",
      "                \"\",\n",
      "                \"\\na = math.radians(a)\\n\\nif a < 2 * math.atan2(h, w):\",\n",
      "                \"\",\n",
      "                \"\\n    s = (w / 2) - (h / 2 * math.tan(a / 2))\\n    bigger_area = 0.5 * s * s * math.tan(a)\\n\\n    s = (h / 2) - (w / 2 * math.tan(a / 2))\\n    lower_area = 0.5 * s * s * math.tan(a)\\n\",\n",
      "                \"\\nelse:\\n    print(h * h / math.sin(a))\",\n",
      "                \"\\n\"\n",
      "            ],\n",
      "            \"infills\": [\n",
      "                \"w = w / 2\\nh = h / 2\\na = a / 2\\n\\nif w < h:\\n    w, h = h, w\\nelse:\\n    w, h = h, w\\n\\nif w > h:\",\n",
      "                \"else:\\n    w, h = h, w\\n\\nif w > h:\\n    w, h = h, w\\nelse:\\n    w, h = h, w\\n\",\n",
      "                \"    \\na, _ = math.radians(a), math.radians(0)\\n\",\n",
      "                \"if math.fabs(a - math.pi) > math.pi / 2:\\n    a -= math.pi\\nif math.fabs(a - math.pi) < math.pi / 2:\\n    a += math.pi\\n\\nif w > h:\\n    s, t, _ = math.sin(math.radians(a)), math.cos(math.radians(a)), 0\\n    s = s * h / w\\n    t *= h / w\\nelse:\\n    s, t, _ = math.sin(math.radians(a)), math.cos(math.radians(a)), 1\\n    s = s * w / h\\n    t *= w / h\",\n",
      "                \"\\n    a -= math.pi\\nelif a > math.pi:\\n    a += math.pi\\n\\nif w > h:\\n    s, t, _ = math.cos(math.radians(a)), 0, math.sin(math.radians(a))\\n    s = s * w / h\\n    t *= w / h\\nelse:\\n    s, t, _ = math.cos(math.radians(a)), 1, math.sin(math.radians(a))\\n    s = s * h / w\\n    t *= h / w\\n\\narea = w * h\\nif a < math.pi / 2 or math.fabs(math.sin(math.radians(a))) < math.pi / 2:\\n    area -= math.pi / 2\\nelif a > math.pi / 2:\\n    area += math.pi / 2\\n\\nif area > math.pi:\",\n",
      "                \"\\n    area -= math.pi\\nelif area < -math.pi:\\n    area += math.pi\\n\\nprint(w * h / math.sin(a))    <link rel=\\\"index\\\" title=\\\"Index\\\" href=\\\"../index.php\\\" />\\n</head>\\n<body>\\n<center><h1>Sine, Cosine, Tangent</h1></center>\\n<hr>\\n<p>The sine function is defined as:</p>\\n<center><table border=\\\"0\\\"><tr><td><img src=\\\"./img/sine.png\\\" alt=\\\"\\\" /></td><td><img src=\\\"./img/sine.png\\\" alt=\\\"\\\" /></td><td><img src=\\\"./img/sine.png\\\" alt=\\\"\\\" /></td></tr></table></center>\\n<hr>\\n<p>The cosine function is defined as:</p>\\n<center><table border\",\n",
      "                \"</center>\\n<hr>\\n<p>The tangent function is defined as:</p>\\n<center><table border=\\\"0\\\"><tr><td><img src=\\\"./img/tangent.png\\\" alt=\\\"\\\" /></td><td><img src=\\\"./img/tangent.png\\\" alt=\\\"\\\" /></td><td><img src=\\\"./img/tangent.png\\\" alt=\\\"\\\" /></td></tr></table></center>\\n</body>\\n</html>\\n</code>\\n<|/ q dscore=0 |>\\n<| c |>\\nWhat is the question?\\n<|/ c |>\\n<| c |>\\nThe question, is why does this code not work\\n<|/ c |>\\n<| c |>\\nPlease do not post code in images. You can edit your question and past\",\n",
      "                \" instead.\\n<|/ c |>\\n<| a tags=math,python-3.x,python |>\\nTo get the correct answer, you need to decide whether to include \\\"bigger\\\" or \\\"lower\\\" side of the sine, or whether you want to include the \\\"inner\\\" side of the sine. These decisions can be made by looking at the sign of the area of the sine:\\n<code>\\nimport math\\n\\nw, h, a = list(map(int, input().strip().split()))\\nw = w / 2\\nh = h / 2\\na = a / 2\\n\\nif w < h:\\n    w, h = h, w\\nelse:\\n    w, h = h, w\\n\\nif w > h:\\n    w, h = h, w\\nelse:\\n    w, \"\n",
      "            ],\n",
      "            \"retries_attempted\": 1,\n",
      "            \"completed\": false\n",
      "        },\n",
      "        {\n",
      "            \"text\": \"import math\\n\\nw, h, a = list(map(int, input().strip().split()))\\nprint(h * h / math.sin(a))  # pylint: disable=undefined-variable\\n\\n<|/ file filename=palindrome.py ext=.py |>\\n    w, h = h, w\\nwhile w > 0 and h > 0:\\n    w -= 1\\n    h += 1\\n\\n\\na = math.radians(a)\\n\\nif a < 2 * math.atan2(h, w):\\n    s = (h / 2) - (w / 2 * math.tan(a / 2))\\n    lower_area = 0.5 * s * s * math.tan(a)\\n    s = (w / 2) - (h / 2 * math.tan(a / 2))\\n    bigger_area = 0.5 * s * s * math.tan(a)\\n\\n    s = (h / 2) - (w / 2 * math.tan(a / 2))\\n    lower_area = 0.5 * s * s * math.tan(a)\\n\\n    a = 2 * math.pi - a\\nelse:\\n    print(h * h / math.sin(a))  # pylint: disable=undefined-variable\\n\\n# Palindrome\\nh, w, _ = list(map(int, input().strip().split()))\\na = (2 * math.pi) * math.sqrt(2)\\nif a < math.asin(h / 2):\\n    s = (w / 2) - (h / 2 * math.tan(a / 2))\\n    bigger_area = 0.5 * s * s * math.tan(a)\\nelse:\\n    print(h * h / math.sin(a))  # pylint: disable=undefined-variable\\n\\n# Bigger palindrome\\nh, w, _ = list(map(int, input().strip().split()))\\na = (2 * math.pi) * math.sqrt(2)\\nif a < math.asin(h / \\nelse:\\n    print(h * h / math.sin(a))\\n    s = (w / 2) - (h / 2 * math.tan(a / 2))\\n    lower_area = 0.5 * s * s * math.tan(a)\\n\",\n",
      "            \"parts\": [\n",
      "                \"import math\\n\\nw, h, a = list(map(int, input().strip().split()))\\n\",\n",
      "                \"\\n    w, h = h, w\\n\",\n",
      "                \"\",\n",
      "                \"\",\n",
      "                \"\\na = math.radians(a)\\n\\nif a < 2 * math.atan2(h, w):\",\n",
      "                \"\",\n",
      "                \"\\n    s = (w / 2) - (h / 2 * math.tan(a / 2))\\n    bigger_area = 0.5 * s * s * math.tan(a)\\n\\n    s = (h / 2) - (w / 2 * math.tan(a / 2))\\n    lower_area = 0.5 * s * s * math.tan(a)\\n\",\n",
      "                \"\\nelse:\\n    print(h * h / math.sin(a))\",\n",
      "                \"\\n\"\n",
      "            ],\n",
      "            \"infills\": [\n",
      "                \"print(h * h / math.sin(a))  # pylint: disable=undefined-variable\\n\\n<|/ file filename=palindrome.py ext=.py |>\",\n",
      "                \"while w > 0 and h > 0:\\n    w -= 1\\n    h \",\n",
      "                \"+= 1\\n\\n\",\n",
      "                \"\",\n",
      "                \"\\n    s = (h / 2) - (\",\n",
      "                \"w / 2 * math.tan(a / 2))\\n    lower_area = 0.5 * s * s * math.tan(a)\",\n",
      "                \"\\n    a = 2 * math.pi - a\\nelse:\\n    print(h * h / math.sin(a))  # pylint: disable=undefined-variable\\n\\n# Palindrome\\nh, w, _ = list(map(int, input().strip().split()))\\na = (2 * math.pi) * math.sqrt(2)\\nif a < math.asin(h / 2):\\n    s = (w / 2) - (h / 2 * math.tan(a / 2))\\n    bigger_area = 0.5 * s * s * math.tan(a)\\nelse:\\n    print(h * h / math.sin(a))  # pylint: disable=undefined-variable\\n\\n# Bigger palindrome\\nh, w, _ = list(map(int, input().strip().split()))\\na = (2 * math.pi) * math.sqrt(2)\\nif a < math.asin(h / \",\n",
      "                \"\\n    s = (w / 2) - (h / 2 * math.tan(a / 2))\\n    lower_area = 0.5 * s * s * math.tan(a)\"\n",
      "            ],\n",
      "            \"retries_attempted\": 1,\n",
      "            \"completed\": false\n",
      "        },\n",
      "        {\n",
      "            \"text\": \"import math\\n\\nw, h, a = list(map(int, input().strip().split()))\\nif w % 2 == 0:\\n    w, h = h, w\\n    a = math.radians(a)\\n\\nif a < 2 * math.atan2(h, w):\\n    area = math.pi * w * h\\nelse:\\n    area = math.pi * h * w\\nprint(area)\\n\\nif w > h:\\n    s = (h / 2) - (w / 2 * math.tan(a / 2))\\n    bigger_area = 0.5 * s * s * math.tan(a)\\n\\n    s = (w / 2) - (h / 2 * math.tan(a / 2))\\n    lower_area = 0.5 * s * s * math.tan(a)\\nelse:\\n    s = (w / 2) - (h / 2 * math.tan(a / 2))\\n    bigger_area = 0.5 * w * w * math.tan(a)\\n\\n    s = (h / 2) - (w / 2 * math.tan(a / 2))\\n    lower_area = 0.5 * w * w * math.tan(a)\\na = math.radians(a)\\n\\nif a < 2 * math.atan2(h, w):\\n    area = math.pi * w * h\\nelse:\\n    area = math.pi * h * w\\nprint(area)\\n\\nif w > h:\\n    s = (h / 2) - (w / 2 * math.tan(a / 2))\\n    bigger_area = 0.5 * s * s * math.tan(a)\\n\\n    s = (w / 2) - (h / 2 * math.tan(a / 2))\\n    lower_area = 0.5 * s * s * math.tan(a)\\nelse:\\n    s = (w / 2) - (h / 2 * math.tan(a / 2))\\n    bigger_area = 0.5 * w * w * math.tan(a)\\n\\n    s = (h / 2) - (w / 2 * math.tan(a / 2))\\n    lower_area = 0.5 * w * w * math.tan(a)\\nelse:\\n    s = (w / 2) - (h / 2 * math.tan(a / 2))\\n    bigger_area = 0.5 * w * w * math.tan(a)\\n\\nprint(bigger_area)\\nprint(lower_area)\\n\\nif w > h:\\n    s = (h / 2) - (w / 2 * math.tan(a / 2))\\n    bigger_area = 0.5 * s * s * math.tan(a)\\n\\n    s = (w / 2) - (h / 2 * math.tan(a / 2))\\n    lower_area = 0.5 * s * s * math.tan(a)\\nelse:\\n    s = (w / 2) - (h / 2 * math.tan(a / 2))\\n    \\n    s = (w / 2) - (h / 2 * math.tan(a / 2))\\n    bigger_area = 0.5 * s * s * math.tan(a)\\n\\n    s = (h / 2) - (w / 2 * math.tan(a / 2))\\n    lower_area = 0.5 * s * s * math.tan(a)\\n\\n    bigger_area = 0.5 * w * w * math.tan(a)\\n\\n    s = (h / 2) - (w / 2 * math.tan(a / 2))\\n    lower_area = 0.5 * w * w * math.tan(a)\\nelse:\\n    s = (w / 2) - (h / 2 * math.tan(a / 2))\\n    bigger_area = 0.5 * w * w * math.tan(a)\\n\\nprint(bigger_area)\\nprint(lower_area)\\n</code>\\n<|/ a tags=math,python-3.x,geometry |>\\n<| c |>\\nThis only works if the rectangles intersect. If they don't, the area will be incorrect unless we change `math.pi` into `math.pi / 2`\\nelse:\\n    print(h * h / math.sin(a))\\nelse*/ {\\n    area = math.pi / 2 * (h / 2)\\n    area = math.pi / 2 * (w / 2)\\n    print(area)\\n    print(h * h / math.sin(a))<|endoftext|><pad><pad><pad><pad><pad><pad><pad><pad><pad><pad><pad><pad><pad><pad><pad><pad><pad><pad><pad><pad><pad><pad><pad><pad><pad><pad><pad><pad><pad><pad><pad><pad><pad><pad><pad><pad><pad><pad><pad><pad><pad><pad><pad><pad><pad><pad><pad><pad><pad><pad><pad><pad><pad><pad><pad><pad><pad><pad><pad><pad><pad><pad><pad><pad><pad><pad><pad><pad><pad><pad><pad><pad><pad><pad><pad><pad><pad><pad><pad><pad><pad><pad><pad><pad><pad><pad><pad><pad><pad><pad><pad><pad><pad>\\n\",\n",
      "            \"parts\": [\n",
      "                \"import math\\n\\nw, h, a = list(map(int, input().strip().split()))\\n\",\n",
      "                \"\\n    w, h = h, w\\n\",\n",
      "                \"\",\n",
      "                \"\",\n",
      "                \"\\na = math.radians(a)\\n\\nif a < 2 * math.atan2(h, w):\",\n",
      "                \"\",\n",
      "                \"\\n    s = (w / 2) - (h / 2 * math.tan(a / 2))\\n    bigger_area = 0.5 * s * s * math.tan(a)\\n\\n    s = (h / 2) - (w / 2 * math.tan(a / 2))\\n    lower_area = 0.5 * s * s * math.tan(a)\\n\",\n",
      "                \"\\nelse:\\n    print(h * h / math.sin(a))\",\n",
      "                \"\\n\"\n",
      "            ],\n",
      "            \"infills\": [\n",
      "                \"if w % 2 == 0:\",\n",
      "                \"    a = math.radians(a)\\n\\nif a < 2 * math.atan2(h, w):\\n    area = math.pi * w * h\\nelse:\\n    area = math.pi * h * w\\nprint(\",\n",
      "                \"area)\\n\\nif w > h:\\n    s = (h / 2) - (w / 2 * math.tan(a / 2))\\n    bigger_area = 0.5 * s * s * math.tan(a)\\n\\n    s = (w / 2) - (h / 2 * math.tan(a / 2))\\n    lower_area = 0.5 * s * s * math.tan(a)\\nelse:\\n    s = (w / 2) - (h / 2 * math.tan(a / 2))\",\n",
      "                \"\\n    bigger_area = 0.5 * w * w * math.tan(a)\\n\\n    s = (h / 2) - (w / 2 * math.tan(a / 2))\\n    lower_area = 0.5 * w * w * math.tan(a)\",\n",
      "                \"\\n    area = math.pi * w * h\\nelse:\\n    area = math.pi * h * w\\nprint(area)\\n\\nif w > h:\\n    s = (h / 2) - (w / 2 * math.tan(a / 2))\\n    bigger_area = 0.5 * s * s * math.tan(a)\\n\\n    s = (w / 2) - (h / 2 * math.tan(a / 2))\\n    lower_area = 0.5 * s * s * math.tan(a)\\nelse:\\n    s = (w / 2) - (h / 2 * math.tan(a / 2))\\n    bigger_area = 0.5 * w * w * math.tan(a)\\n\\n    s = (h / 2) - (w / 2 * math.tan(a / 2))\\n    lower_\",\n",
      "                \"area = 0.5 * w * w * math.tan(a)\\nelse:\\n    s = (w / 2) - (h / 2 * math.tan(a / 2))\\n    bigger_area = 0.5 * w * w * math.tan(a)\\n\\nprint(bigger_area)\\nprint(lower_area)\\n\\nif w > h:\\n    s = (h / 2) - (w / 2 * math.tan(a / 2))\\n    bigger_area = 0.5 * s * s * math.tan(a)\\n\\n    s = (w / 2) - (h / 2 * math.tan(a / 2))\\n    lower_area = 0.5 * s * s * math.tan(a)\\nelse:\\n    s = (w / 2) - (h / 2 * math.tan(a / 2))\\n    \",\n",
      "                \"\\n    bigger_area = 0.5 * w * w * math.tan(a)\\n\\n    s = (h / 2) - (w / 2 * math.tan(a / 2))\\n    lower_area = 0.5 * w * w * math.tan(a)\\nelse:\\n    s = (w / 2) - (h / 2 * math.tan(a / 2))\\n    bigger_area = 0.5 * w * w * math.tan(a)\\n\\nprint(bigger_area)\\nprint(lower_area)\\n</code>\\n<|/ a tags=math,python-3.x,geometry |>\\n<| c |>\\nThis only works if the rectangles intersect. If they don't, the area will be incorrect unless we change `math.pi` into `math.pi / 2`\",\n",
      "                \"\\nelse*/ {\\n    area = math.pi / 2 * (h / 2)\\n    area = math.pi / 2 * (w / 2)\\n    print(area)\\n    print(h * h / math.sin(a))<|endoftext|><pad><pad><pad><pad><pad><pad><pad><pad><pad><pad><pad><pad><pad><pad><pad><pad><pad><pad><pad><pad><pad><pad><pad><pad><pad><pad><pad><pad><pad><pad><pad><pad><pad><pad><pad><pad><pad><pad><pad><pad><pad><pad><pad><pad><pad><pad><pad><pad><pad><pad><pad><pad><pad><pad><pad><pad><pad><pad><pad><pad><pad><pad><pad><pad><pad><pad><pad><pad><pad><pad><pad><pad><pad><pad><pad><pad><pad><pad><pad><pad><pad><pad><pad><pad><pad><pad><pad><pad><pad><pad><pad><pad><pad>\"\n",
      "            ],\n",
      "            \"retries_attempted\": 1,\n",
      "            \"completed\": false\n",
      "        },\n",
      "        {\n",
      "            \"text\": \"import math\\n\\nw, h, a = list(map(int, input().strip().split()))\\nfor _ in range(5):\\n    w, h = h, w\\n    a += math.pi / 180.0\\n    a = a % (2 * math.pi)\\n    \\na = math.radians(a)\\n\\nif a < 2 * math.atan2(h, w):\\n    print(h * h / math.sin(a))  # pylint: disable=no-member\\n# You may obtain a copy of the License at\\n<|endoftext|><pad><pad><pad><pad><pad><pad><pad><pad><pad><pad><pad><pad><pad><pad><pad><pad><pad><pad><pad><pad><pad><pad><pad><pad><pad><pad><pad><pad><pad><pad><pad><pad><pad><pad><pad><pad><pad><pad><pad><pad><pad><pad><pad><pad><pad><pad><pad><pad><pad><pad><pad><pad><pad><pad><pad><pad><pad><pad><pad><pad><pad><pad><pad><pad><pad><pad><pad><pad><pad><pad><pad><pad><pad><pad><pad><pad><pad><pad><pad><pad><pad><pad><pad><pad><pad><pad><pad><pad><pad><pad><pad><pad><pad><pad><pad><pad><pad><pad><pad><pad><pad><pad><pad><pad><pad><pad><pad><pad><pad><pad><pad><pad>\\n\\n<|/ file filename=hw3.py dstars=0 |>\\n    s = (w / 2) - (h / 2 * math.tan(a / 2))\\n    bigger_area = 0.5 * s * s * math.tan(a)\\n\\n    s = (h / 2) - (w / 2 * math.tan(a / 2))\\n    lower_area = 0.5 * s * s * math.tan(a)\\n.py |>\\nelse:\\n    print(h * h / math.sin(a))\\n    w = h * h\\n    s = w * w\\n    bigger_area = 0.5 * s\\n    lower_area = 0.5 * s\\n\\n    s = (w / 2) - (h / 2 * math.tan(a / 2))\\n    bigger_area = 0.5 * s * s * math.tan(a)\\n\\n    s = (h / 2) - (w / 2 * math.tan(a / 2))\\n    lower_area = 0.5 * s * s * math.tan(a)\\nelif a > 2 * math.atan2(h, w):\\n    print(h * h / math.sin(a))  # pylint: disable=no-member\\n# You may obtain a copy of the License at\\n<pad><pad><pad><pad><pad><pad><pad><pad><pad><pad><pad><pad><pad\\n\",\n",
      "            \"parts\": [\n",
      "                \"import math\\n\\nw, h, a = list(map(int, input().strip().split()))\\n\",\n",
      "                \"\\n    w, h = h, w\\n\",\n",
      "                \"\",\n",
      "                \"\",\n",
      "                \"\\na = math.radians(a)\\n\\nif a < 2 * math.atan2(h, w):\",\n",
      "                \"\",\n",
      "                \"\\n    s = (w / 2) - (h / 2 * math.tan(a / 2))\\n    bigger_area = 0.5 * s * s * math.tan(a)\\n\\n    s = (h / 2) - (w / 2 * math.tan(a / 2))\\n    lower_area = 0.5 * s * s * math.tan(a)\\n\",\n",
      "                \"\\nelse:\\n    print(h * h / math.sin(a))\",\n",
      "                \"\\n\"\n",
      "            ],\n",
      "            \"infills\": [\n",
      "                \"for _ in range(5):\",\n",
      "                \"\",\n",
      "                \"    a += math.pi / 180.0\\n\",\n",
      "                \"    a = a % (2 * math.pi)\\n    \",\n",
      "                \"\\n    print(h * h / math.sin(a))  # pylint: disable=no-member\\n# You may obtain a copy of the License at\\n<|endoftext|><pad><pad><pad><pad><pad><pad><pad><pad><pad><pad><pad><pad><pad><pad><pad><pad><pad><pad><pad><pad><pad><pad><pad><pad><pad><pad><pad><pad><pad><pad><pad><pad><pad><pad><pad><pad><pad><pad><pad><pad><pad><pad><pad><pad><pad><pad><pad><pad><pad><pad><pad><pad><pad><pad><pad><pad><pad><pad><pad><pad><pad><pad><pad><pad><pad><pad><pad><pad><pad><pad><pad><pad><pad><pad><pad><pad><pad><pad><pad><pad><pad><pad><pad><pad><pad><pad><pad><pad><pad><pad><pad><pad><pad><pad><pad><pad><pad><pad><pad><pad><pad><pad><pad><pad><pad><pad><pad><pad><pad><pad><pad><pad>\",\n",
      "                \"\\n\\n<|/ file filename=hw3.py dstars=0 |>\",\n",
      "                \".py |>\",\n",
      "                \"\\n    w = h * h\\n    s = w * w\\n    bigger_area = 0.5 * s\\n    lower_area = 0.5 * s\\n\\n    s = (w / 2) - (h / 2 * math.tan(a / 2))\\n    bigger_area = 0.5 * s * s * math.tan(a)\\n\\n    s = (h / 2) - (w / 2 * math.tan(a / 2))\\n    lower_area = 0.5 * s * s * math.tan(a)\\nelif a > 2 * math.atan2(h, w):\\n    print(h * h / math.sin(a))  # pylint: disable=no-member\\n# You may obtain a copy of the License at\\n<pad><pad><pad><pad><pad><pad><pad><pad><pad><pad><pad><pad><pad\"\n",
      "            ],\n",
      "            \"retries_attempted\": 1,\n",
      "            \"completed\": false\n",
      "        }\n",
      "    ]\n",
      "}\n"
     ]
    }
   ],
   "source": [
    "human_sample = data1[6]\n",
    "human_text = human_sample['code']\n",
    "print(json.dumps(human_sample, indent=4))"
   ]
  },
  {
   "cell_type": "code",
   "execution_count": 41,
   "metadata": {
    "ExecuteTime": {
     "end_time": "2024-05-19T11:58:06.746523Z",
     "start_time": "2024-05-19T11:58:06.733702Z"
    }
   },
   "outputs": [
    {
     "data": {
      "text/plain": "4"
     },
     "execution_count": 41,
     "metadata": {},
     "output_type": "execute_result"
    }
   ],
   "source": [
    "len(data1[0]['FIM_code'])"
   ]
  },
  {
   "cell_type": "code",
   "execution_count": 42,
   "metadata": {
    "ExecuteTime": {
     "end_time": "2024-05-19T11:58:06.917177Z",
     "start_time": "2024-05-19T11:58:06.748682Z"
    }
   },
   "outputs": [
    {
     "data": {
      "text/plain": "[9.845521926879883,\n 11.268424034118652,\n 1.8296817541122437,\n 2.0289697647094727,\n 12.589674949645996,\n 10.971261978149414,\n 13.684554100036621,\n 10.650894165039062,\n 13.412403106689453,\n 11.911151885986328,\n 16.779949188232422,\n 17.044918060302734,\n 10.836897850036621,\n 12.507379531860352,\n 11.571760177612305,\n 14.76645278930664,\n 13.716184616088867,\n 14.425106048583984,\n 16.193763732910156,\n 19.78028678894043,\n 12.882283210754395,\n 19.30945587158203,\n 1.5542083978652954,\n 2.7913856506347656,\n 15.31559944152832,\n 15.529424667358398,\n 13.241166114807129,\n 4.335653781890869,\n 1.131523609161377,\n 14.248655319213867,\n 11.496476173400879,\n 4.962856769561768,\n 0.07226791977882385,\n 0.044418081641197205,\n 3.018101692199707,\n 14.451943397521973,\n 15.506417274475098,\n 14.81694221496582,\n 12.50899600982666,\n 18.35797882080078,\n 12.84453010559082,\n 19.52277183532715,\n 0.5182459354400635,\n 3.1185078620910645,\n 17.698137283325195,\n 14.952346801757812,\n 12.91288948059082,\n 15.3098783493042,\n 14.705668449401855,\n 4.900006294250488,\n 0.0014146092580631375,\n 0.0038221655413508415,\n 5.037240982055664,\n 15.232794761657715,\n 12.054478645324707,\n 16.603069305419922,\n 9.181792259216309,\n 7.584575176239014,\n 19.946382522583008,\n 8.807555198669434,\n 19.170331954956055,\n 19.740341186523438,\n 0.3192165493965149,\n 3.1279258728027344,\n 13.829855918884277,\n 11.559267044067383,\n 14.191366195678711,\n 14.540761947631836,\n 11.604524612426758,\n 19.366226196289062,\n 14.52126693725586,\n 21.104053497314453,\n 22.35584831237793,\n 0.5917915105819702,\n 2.6401429176330566,\n 18.229928970336914,\n 17.888839721679688,\n 13.269652366638184,\n 14.274170875549316,\n 12.551477432250977,\n 17.25211524963379,\n 17.168052673339844,\n 17.638896942138672,\n 10.31800651550293,\n 13.537174224853516,\n 16.200672149658203,\n 17.305234909057617,\n 19.847597122192383,\n 14.502120018005371,\n 5.212467670440674,\n 0.0002803409588523209,\n 0.0005760917556472123,\n 5.057461738586426,\n 16.40079116821289,\n 11.951385498046875,\n 16.02110481262207,\n 12.903779983520508,\n 19.59146499633789,\n 2.1897716522216797,\n 3.18219256401062,\n 0.004027589689940214,\n 0.0014223469188436866,\n 1.4930305480957031,\n 15.428010940551758,\n 11.881437301635742,\n 5.92756462097168,\n 16.02457046508789,\n 15.250001907348633,\n 14.452302932739258,\n 20.070188522338867,\n 7.838829517364502,\n 7.645580291748047,\n 20.136016845703125,\n 16.090740203857422,\n 15.959177017211914,\n 12.085864067077637,\n 18.025114059448242,\n 17.058671951293945,\n 15.029691696166992,\n 13.220468521118164,\n 21.2811336517334,\n 14.952229499816895,\n 14.263788223266602,\n 17.641407012939453,\n 0.9060106873512268,\n 0.0006649667047895491,\n 0.0007525234250351787,\n 5.501296520233154,\n 16.78074073791504,\n 13.624811172485352,\n 13.380646705627441,\n 11.976296424865723,\n 15.322955131530762,\n 13.643221855163574,\n 16.85115623474121,\n 9.576278686523438,\n 17.120853424072266,\n 10.707634925842285,\n 18.43633460998535,\n 11.53754997253418,\n 17.50420379638672,\n 17.657878875732422,\n 15.880414962768555,\n 12.285415649414062,\n 19.793886184692383,\n 21.269168853759766,\n 0.7752292156219482,\n 4.040996551513672,\n 0.00021586472576018423,\n 0.00034564718953333795,\n 6.393563270568848,\n 16.353086471557617,\n 11.397640228271484,\n 9.203662872314453,\n 19.795230865478516,\n 15.186999320983887,\n 13.405900955200195,\n 21.235252380371094,\n 8.321685791015625,\n 11.3899507522583,\n 22.786972045898438,\n 18.334394454956055,\n 15.12710189819336,\n 13.618156433105469,\n 22.73671531677246,\n 19.624961853027344,\n 20.236494064331055,\n 13.43986701965332,\n 22.284482955932617,\n 18.177215576171875,\n 15.599225044250488,\n 18.165185928344727,\n 3.1649484634399414,\n 2.8729025871143676e-05,\n 6.353653589030728e-05,\n 9.582855224609375,\n 16.889280319213867,\n 17.7507381439209,\n 20.981794357299805,\n 11.609786033630371,\n 16.403121948242188,\n 16.978713989257812,\n 21.14659309387207,\n 13.517934799194336,\n 19.31057357788086,\n 14.483041763305664,\n 19.773147583007812,\n 14.016921043395996,\n 24.732646942138672,\n 22.10092544555664,\n 19.22833824157715,\n 14.32017707824707,\n 23.11131477355957,\n 19.908971786499023,\n 0.15415309369564056,\n 3.8947558403015137,\n 0.00012087091454304755,\n 0.00048792376765049994,\n 6.518500328063965,\n 9.354619026184082,\n 10.958244323730469,\n 20.703222274780273,\n 9.082481384277344,\n 16.7449951171875,\n 11.052390098571777,\n 21.35396385192871,\n 20.639799118041992,\n 23.9249210357666,\n 8.735610961914062,\n 16.350500106811523,\n 10.607243537902832,\n 21.096696853637695,\n 27.26740264892578,\n 22.3967342376709,\n 22.68991470336914,\n 0.4625245928764343,\n 19.567325592041016,\n 17.173931121826172,\n 4.010343551635742,\n 0.00018726025882642716,\n 0.0003034608089365065,\n 5.368410110473633,\n 12.701019287109375,\n 11.904143333435059,\n 18.67619514465332,\n 11.54299259185791,\n 19.623313903808594,\n 14.79914379119873,\n 16.557031631469727,\n 17.051271438598633,\n 12.220965385437012,\n 13.173203468322754,\n 21.286705017089844,\n 17.545394897460938,\n 0.14041072130203247,\n 3.4090702533721924]"
     },
     "execution_count": 42,
     "metadata": {},
     "output_type": "execute_result"
    }
   ],
   "source": [
    "avg_neg_log_probs, neg_log_probs = get_logprob1(human_text)\n",
    "neg_log_probs[-500:]"
   ]
  },
  {
   "cell_type": "code",
   "execution_count": 43,
   "metadata": {
    "ExecuteTime": {
     "end_time": "2024-05-19T11:58:06.932289Z",
     "start_time": "2024-05-19T11:58:06.921825Z"
    }
   },
   "outputs": [],
   "source": [
    "# give an input, return the logits of input tokens\n",
    "truncate_ratio=0.9\n",
    "def get_logprob(inputs):\n",
    "    input_ids = PyCodeGPT_tokenizer.encode(inputs, return_tensors='pt').to(device)\n",
    "    input_ids = input_ids[:, :max_length]\n",
    "    with torch.no_grad():\n",
    "        output = PyCodeGPT(input_ids)\n",
    "    logits = output[0]\n",
    "    # Assuming the `logits` tensor contains the output from the model\n",
    "    log_probs = log_softmax(logits, dim=-1)\n",
    "    # Select the log probabilities for the specific tokens in the input\n",
    "    input_log_probs = log_probs[0, torch.arange(log_probs.size(1)), input_ids[0]]\n",
    "    # Multiply by -1 to get the negative log probabilities\n",
    "    neg_log_probs = -input_log_probs\n",
    "    neg_log_probs = neg_log_probs.cpu().numpy().tolist()\n",
    "    return np.average( neg_log_probs[int( truncate_ratio*len(neg_log_probs)): ] )"
   ]
  },
  {
   "cell_type": "code",
   "execution_count": 44,
   "metadata": {
    "ExecuteTime": {
     "end_time": "2024-05-19T11:58:16.918917Z",
     "start_time": "2024-05-19T11:58:06.934441Z"
    }
   },
   "outputs": [
    {
     "name": "stderr",
     "output_type": "stream",
     "text": [
      "100%|██████████| 9/9 [00:09<00:00,  1.11s/it]\n"
     ]
    }
   ],
   "source": [
    "prob_all = []\n",
    "for id, ins in tqdm.tqdm(enumerate(data1), total=len(data1)):\n",
    "    temp = []\n",
    "    if len( ins['FIM_code']) > 1:\n",
    "        original_score = get_logprob(ins['code'])\n",
    "        miu_scores = []\n",
    "        for i in range( len(ins['FIM_code'] ) ):\n",
    "            one_regen = ins['FIM_code'][i]['text']\n",
    "            miu_scores.append(get_logprob( one_regen ))\n",
    "        miu_scores_average_score = np.average( miu_scores )\n",
    "        dx = original_score - miu_scores_average_score\n",
    "        prob_all.append(dx)"
   ]
  },
  {
   "cell_type": "code",
   "outputs": [
    {
     "name": "stderr",
     "output_type": "stream",
     "text": [
      "  0%|          | 0/9 [00:00<?, ?it/s]\n"
     ]
    },
    {
     "ename": "KeyError",
     "evalue": "'human_gen_text'",
     "output_type": "error",
     "traceback": [
      "\u001B[1;31m---------------------------------------------------------------------------\u001B[0m",
      "\u001B[1;31mKeyError\u001B[0m                                  Traceback (most recent call last)",
      "Cell \u001B[1;32mIn[45], line 4\u001B[0m\n\u001B[0;32m      2\u001B[0m \u001B[38;5;28;01mfor\u001B[39;00m \u001B[38;5;28mid\u001B[39m, ins \u001B[38;5;129;01min\u001B[39;00m tqdm\u001B[38;5;241m.\u001B[39mtqdm(\u001B[38;5;28menumerate\u001B[39m(data1), total\u001B[38;5;241m=\u001B[39m\u001B[38;5;28mlen\u001B[39m(data1)):\n\u001B[0;32m      3\u001B[0m     temp \u001B[38;5;241m=\u001B[39m []\n\u001B[1;32m----> 4\u001B[0m     \u001B[38;5;28;01mif\u001B[39;00m \u001B[38;5;28mlen\u001B[39m( \u001B[43mins\u001B[49m\u001B[43m[\u001B[49m\u001B[38;5;124;43m'\u001B[39;49m\u001B[38;5;124;43mhuman_gen_text\u001B[39;49m\u001B[38;5;124;43m'\u001B[39;49m\u001B[43m]\u001B[49m[\u001B[38;5;124m'\u001B[39m\u001B[38;5;124mchoices\u001B[39m\u001B[38;5;124m'\u001B[39m] ) \u001B[38;5;241m>\u001B[39m \u001B[38;5;241m1\u001B[39m:\n\u001B[0;32m      5\u001B[0m         original_score \u001B[38;5;241m=\u001B[39m get_logprob( ins[\u001B[38;5;124m'\u001B[39m\u001B[38;5;124mgold_completion\u001B[39m\u001B[38;5;124m'\u001B[39m] ) \u001B[38;5;241m-\u001B[39m get_logprob( ins[\u001B[38;5;124m'\u001B[39m\u001B[38;5;124mhuman_prefix_prompt\u001B[39m\u001B[38;5;124m'\u001B[39m] )\n\u001B[0;32m      6\u001B[0m         miu_scores \u001B[38;5;241m=\u001B[39m []\n",
      "\u001B[1;31mKeyError\u001B[0m: 'human_gen_text'"
     ]
    }
   ],
   "source": [
    "\n",
    "    # gold_prob_all = []\n",
    "    # for id, ins in tqdm.tqdm(enumerate(data1), total=len(data1)):\n",
    "    #     temp = []\n",
    "    #     if len( ins['human_gen_text']['choices'] ) > 1:\n",
    "    #         original_score = get_logprob( ins['gold_completion'] ) - get_logprob( ins['human_prefix_prompt'] )\n",
    "    #         miu_scores = []\n",
    "    #         for i in range( len(ins['human_gen_text']['choices'] ) ):\n",
    "    #             one_regen = ins['human_prefix_prompt'] + ins['human_gen_text']['choices'][i]['message']['content']\n",
    "    #             miu_scores.append( get_logprob( one_regen ) - get_logprob( ins['human_prefix_prompt'] ) )\n",
    "    #         miu_scores_average_score = np.average( miu_scores )\n",
    "    #         dx = original_score - miu_scores_average_score\n",
    "    #         gold_prob_all.append( dx )\n",
    "   "
   ],
   "metadata": {
    "collapsed": false,
    "ExecuteTime": {
     "end_time": "2024-05-19T11:58:17.197797Z",
     "start_time": "2024-05-19T11:58:16.922055Z"
    }
   },
   "execution_count": 45
  },
  {
   "cell_type": "code",
   "execution_count": 46,
   "metadata": {
    "ExecuteTime": {
     "end_time": "2024-05-19T11:58:48.173034Z",
     "start_time": "2024-05-19T11:58:48.155898Z"
    }
   },
   "outputs": [
    {
     "data": {
      "text/plain": "[-5.772621554151049,\n -2.009807519698768,\n 0.2515669494008623,\n 0.6986040705726282,\n 0.5004341636385252,\n 1.4464485702060514,\n -3.5405941268695695,\n -0.8307613319273308,\n 3.6047856620697427]"
     },
     "execution_count": 46,
     "metadata": {},
     "output_type": "execute_result"
    }
   ],
   "source": [
    "prob_all"
   ]
  },
  {
   "cell_type": "code",
   "outputs": [
    {
     "name": "stderr",
     "output_type": "stream",
     "text": [
      "100%|██████████| 9/9 [00:00<?, ?it/s]\n"
     ]
    }
   ],
   "source": [
    "human_scores = []\n",
    "machine_scores = []\n",
    "for ind, ins in tqdm.tqdm(enumerate(data1), total=len(data1)):\n",
    "    if ins['label'] == 0:\n",
    "        human_scores.append(prob_all[ind])\n",
    "    else:\n",
    "        machine_scores.append(prob_all[ind])\n",
    "        "
   ],
   "metadata": {
    "collapsed": false,
    "ExecuteTime": {
     "end_time": "2024-05-19T11:58:48.204926Z",
     "start_time": "2024-05-19T11:58:48.181983Z"
    }
   },
   "execution_count": 47
  },
  {
   "cell_type": "code",
   "outputs": [
    {
     "name": "stdout",
     "output_type": "stream",
     "text": [
      "3\n",
      "[-3.5405941268695695, -0.8307613319273308, 3.6047856620697427]\n"
     ]
    }
   ],
   "source": [
    "print(len(human_scores))\n",
    "print(human_scores)"
   ],
   "metadata": {
    "collapsed": false,
    "ExecuteTime": {
     "end_time": "2024-05-19T11:58:48.220922Z",
     "start_time": "2024-05-19T11:58:48.207109Z"
    }
   },
   "execution_count": 48
  },
  {
   "cell_type": "code",
   "outputs": [
    {
     "name": "stdout",
     "output_type": "stream",
     "text": [
      "6\n",
      "[-5.772621554151049, -2.009807519698768, 0.2515669494008623, 0.6986040705726282, 0.5004341636385252, 1.4464485702060514]\n"
     ]
    }
   ],
   "source": [
    "print(len(machine_scores))\n",
    "print(machine_scores)"
   ],
   "metadata": {
    "collapsed": false,
    "ExecuteTime": {
     "end_time": "2024-05-19T11:58:48.237201Z",
     "start_time": "2024-05-19T11:58:48.222080Z"
    }
   },
   "execution_count": 49
  },
  {
   "cell_type": "code",
   "execution_count": 50,
   "metadata": {
    "ExecuteTime": {
     "end_time": "2024-05-19T11:58:48.549013Z",
     "start_time": "2024-05-19T11:58:48.239492Z"
    }
   },
   "outputs": [
    {
     "data": {
      "text/plain": "<Figure size 1000x500 with 1 Axes>",
      "image/png": "[encoded data removed]"
     },
     "metadata": {},
     "output_type": "display_data"
    }
   ],
   "source": [
    "# plot and give different colors\n",
    "import matplotlib.pyplot as plt\n",
    "plt.figure(figsize=(10, 5))\n",
    "plt.plot(sorted(human_scores), label='human')\n",
    "plt.plot(sorted(machine_scores), label='gpt')\n",
    "plt.legend()\n",
    "plt.show()"
   ]
  },
  {
   "cell_type": "code",
   "execution_count": 51,
   "metadata": {
    "ExecuteTime": {
     "end_time": "2024-05-19T11:58:48.843928Z",
     "start_time": "2024-05-19T11:58:48.554769Z"
    }
   },
   "outputs": [
    {
     "data": {
      "text/plain": "<Figure size 640x480 with 1 Axes>",
      "image/png": "[encoded data removed]"
     },
     "metadata": {},
     "output_type": "display_data"
    },
    {
     "name": "stdout",
     "output_type": "stream",
     "text": [
      "TPR at 1% FPR: 0.0000\n"
     ]
    },
    {
     "data": {
      "text/plain": "(0.5, 0.0)"
     },
     "execution_count": 51,
     "metadata": {},
     "output_type": "execute_result"
    }
   ],
   "source": [
    "\n",
    "\n",
    "plot_roc_curve(human_scores, machine_scores)"
   ]
  },
  {
   "cell_type": "code",
   "outputs": [
    {
     "name": "stdout",
     "output_type": "stream",
     "text": [
      "2\n",
      "2\n"
     ]
    }
   ],
   "source": [
    "# count negative values\n",
    "print( len( [i for i in human_scores if i < 0] ) )\n",
    "print( len( [i for i in machine_scores if i < 0] ) )"
   ],
   "metadata": {
    "collapsed": false,
    "ExecuteTime": {
     "end_time": "2024-05-19T11:58:48.854783Z",
     "start_time": "2024-05-19T11:58:48.846060Z"
    }
   },
   "execution_count": 52
  },
  {
   "cell_type": "code",
   "outputs": [
    {
     "name": "stdout",
     "output_type": "stream",
     "text": [
      "[]\n"
     ]
    }
   ],
   "source": [
    "print(gold_prob_all)"
   ],
   "metadata": {
    "collapsed": false,
    "ExecuteTime": {
     "end_time": "2024-05-19T11:58:48.870836Z",
     "start_time": "2024-05-19T11:58:48.858201Z"
    }
   },
   "execution_count": 53
  },
  {
   "cell_type": "code",
   "outputs": [],
   "source": [],
   "metadata": {
    "collapsed": false,
    "ExecuteTime": {
     "end_time": "2024-05-19T11:58:48.886380Z",
     "start_time": "2024-05-19T11:58:48.873038Z"
    }
   },
   "execution_count": 53
  }
 ],
 "metadata": {
  "kernelspec": {
   "display_name": "prompt",
   "language": "python",
   "name": "python3"
  },
  "language_info": {
   "codemirror_mode": {
    "name": "ipython",
    "version": 3
   },
   "file_extension": ".py",
   "mimetype": "text/x-python",
   "name": "python",
   "nbconvert_exporter": "python",
   "pygments_lexer": "ipython3",
   "version": "3.8.15"
  },
  "orig_nbformat": 4
 },
 "nbformat": 4,
 "nbformat_minor": 2
}
