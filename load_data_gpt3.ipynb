{
 "cells": [
  {
   "cell_type": "code",
   "execution_count": null,
   "metadata": {},
   "outputs": [],
   "source": [
    "from datasets import load_dataset\n",
    "import openai, json\n",
    "key6 = ''\n",
    "openai.api_key = key6"
   ]
  },
  {
   "cell_type": "code",
   "execution_count": null,
   "metadata": {},
   "outputs": [],
   "source": [
    "data = load_dataset(\"deepmind/code_contests\")['test'] \n",
    "#UNKNOWN_LANGUAGE (0): 0\n",
    "# PYTHON (1) (solutions written in PYTHON2): 1921\n",
    "# CPP (2): 1585\n",
    "# PYTHON3 (3): 1147\n",
    "# JAVA (4): 4342\n",
    "data"
   ]
  },
  {
   "cell_type": "code",
   "execution_count": null,
   "metadata": {},
   "outputs": [],
   "source": [
    "prompt_q = data[2]['description']\n",
    "prompt_q"
   ]
  },
  {
   "cell_type": "code",
   "execution_count": null,
   "metadata": {},
   "outputs": [],
   "source": [
    "def get_chatgpt_qa_response(prompt_text, temperature = 0.7, max_tokens=2048):\n",
    "    messages = [{\"role\":\"system\", \"content\": \"You are a helpful assistant that answers the question provided.\"},\n",
    "                {\"role\":\"user\", \"content\": 'Provide me the Python3 codes for sovling the question: ' + prompt_text}]\n",
    "    response = openai.ChatCompletion.create(\n",
    "                model = \"gpt-3.5-turbo\",\n",
    "                messages = messages,\n",
    "                temperature = temperature,\n",
    "                max_tokens = max_tokens,    \n",
    "                )\n",
    "    return response#['choices'][0]['message']['content']"
   ]
  },
  {
   "cell_type": "code",
   "execution_count": null,
   "metadata": {},
   "outputs": [],
   "source": [
    "response = get_chatgpt_qa_response( prompt_text = chatgpt_python_codecontest[85]['question'] )"
   ]
  },
  {
   "cell_type": "code",
   "execution_count": null,
   "metadata": {},
   "outputs": [],
   "source": [
    "response['choices'][0]['message']['content']"
   ]
  },
  {
   "cell_type": "code",
   "execution_count": null,
   "metadata": {},
   "outputs": [],
   "source": [
    "with open( 'results/davinci_003_python_codecontest.jsonl_nocomment.jsonl', \"r\") as f:\n",
    "    chatgpt_python_codecontest = [json.loads(x) for x in f.read().strip().split(\"\\n\") ]\n",
    "len(chatgpt_python_codecontest)"
   ]
  },
  {
   "cell_type": "code",
   "execution_count": null,
   "metadata": {},
   "outputs": [],
   "source": [
    "# chatgpt_python_codecontest[85]['gen_completion'] = response['choices'][0]['message']['content']"
   ]
  },
  {
   "cell_type": "code",
   "execution_count": null,
   "metadata": {},
   "outputs": [],
   "source": [
    "idx = 14\n",
    "chatgpt_python_codecontest[idx]['gen_completion']['choices'][0]['text'][len( chatgpt_python_codecontest[idx]['question'] ): ]"
   ]
  },
  {
   "cell_type": "code",
   "execution_count": null,
   "metadata": {},
   "outputs": [],
   "source": [
    "for i,ins in enumerate(chatgpt_python_codecontest):\n",
    "    if 'Solution:' not in ins['gen_completion']['choices'][0]['text'][len( ins['question'] ): ]:\n",
    "        print(i)"
   ]
  },
  {
   "cell_type": "code",
   "execution_count": null,
   "metadata": {},
   "outputs": [],
   "source": []
  },
  {
   "cell_type": "code",
   "execution_count": null,
   "metadata": {},
   "outputs": [],
   "source": [
    "from utils import parse_code_snippet\n",
    "\n",
    "for i,instance in enumerate( chatgpt_python_codecontest):\n",
    "    pasrsed_codes = parse_code_snippet( prompt=instance['question'], raw_o=instance['gen_completion'] )\n",
    "    chatgpt_python_codecontest[i]['pasrsed_codes'] = pasrsed_codes\n",
    "    if pasrsed_codes.startswith('# CANNOT'):\n",
    "        print(i)\n",
    "    "
   ]
  },
  {
   "cell_type": "code",
   "execution_count": null,
   "metadata": {},
   "outputs": [],
   "source": [
    "chatgpt_python_codecontest[30]"
   ]
  },
  {
   "cell_type": "code",
   "execution_count": null,
   "metadata": {},
   "outputs": [],
   "source": [
    "# outputs = []\n",
    "# for ins in chatgpt_python_codecontest:\n",
    "#     outputs.append(json.dumps(ins))\n",
    "\n",
    "# with open( 'results/gpt4_python_codecontest.jsonl', \"w\") as f:\n",
    "#     f.write(\"\\n\".join(outputs) + \"\\n\")"
   ]
  },
  {
   "cell_type": "code",
   "execution_count": null,
   "metadata": {},
   "outputs": [],
   "source": []
  },
  {
   "cell_type": "code",
   "execution_count": null,
   "metadata": {},
   "outputs": [],
   "source": [
    "HUMANEVAL_EOS = [\"\\nclass\", \"\\ndef\", \"\\n#\", \"\\n@\", \"\\nprint\", \"\\nif\"]\n",
    "NON_CODE_EOS = [\"<|endoftext|>\", \"\\n```\", \"\\n</s>\", \"<|endofmask|>\"]\n",
    "EOS = HUMANEVAL_EOS + NON_CODE_EOS\n",
    "\n",
    "def find_gen_func_sig(prompt):\n",
    "    func_sig = \"\"\n",
    "    for x in prompt.splitlines():\n",
    "        if x.startswith(\"def \") and x.endswith(\":\"):\n",
    "            # always pick the last one, since there could pre-defined functions.\n",
    "            func_sig = x\n",
    "    return func_sig\n",
    "\n",
    "def remove_eos(gen):\n",
    "    min_index = 1000\n",
    "    for eos in EOS:\n",
    "        if eos in gen:\n",
    "            min_index = min(min_index, gen.index(eos))\n",
    "    return gen[:min_index]"
   ]
  },
  {
   "cell_type": "code",
   "execution_count": null,
   "metadata": {},
   "outputs": [],
   "source": []
  },
  {
   "cell_type": "code",
   "execution_count": null,
   "metadata": {},
   "outputs": [],
   "source": [
    "idx = 0\n",
    "raw_o = chatgpt_python_codecontest[idx]['gen_completion'] # response['choices'][0]['message']['content'] #\n",
    "prompt = chatgpt_python_codecontest[idx]['question']\n",
    "if \"```\" in raw_o:\n",
    "    gen = raw_o.split(\"```\")[1].strip()\n",
    "    if gen.startswith(\"python\"):\n",
    "        gen = gen[len(\"python\") :].strip()\n",
    "    if gen.startswith(prompt.strip()):\n",
    "        suf = gen.split(prompt.strip())[-1]\n",
    "        suf = remove_eos(suf)\n",
    "        gen = prompt.strip() + suf\n",
    "    elif find_gen_func_sig(prompt) == '':\n",
    "        gen = gen\n",
    "    elif find_gen_func_sig(prompt) in gen:\n",
    "        # same function sign is in the prompt\n",
    "        sig = find_gen_func_sig(prompt)\n",
    "        pre, suf = gen.split(sig)[0], gen.split(sig)[-1]\n",
    "        suf = remove_eos(suf)\n",
    "        gen = pre + sig + suf\n",
    "    else:\n",
    "        gen = f\"# CANNOT PARSE CODE SNIPPET\\n{gen}\"\n",
    "else:\n",
    "    # cannot really handle parse just dump to file and maybe process later.\n",
    "    gen = f\"# CANNOT PARSE\\n{raw_o}\"\n",
    "gen\n"
   ]
  },
  {
   "cell_type": "code",
   "execution_count": null,
   "metadata": {},
   "outputs": [],
   "source": [
    "gen = raw_o.split(\"```\")[1].strip()"
   ]
  },
  {
   "cell_type": "code",
   "execution_count": null,
   "metadata": {},
   "outputs": [],
   "source": []
  },
  {
   "cell_type": "code",
   "execution_count": null,
   "metadata": {},
   "outputs": [],
   "source": [
    "def call_edit(prompt_text, temperature = 0.7, max_tokens=2048):\n",
    "\n",
    "    response = openai.Edit.create( model = \"text-davinci-edit-001\",\n",
    "                                   input = prompt_text,\n",
    "                                   instruction=\"make minimal modifications to rewrite the codes and maintain the same functionality \",\n",
    "                                   temperature=temperature,\n",
    "                                    #max_tokens=max_tokens,\n",
    "                                      )\n",
    "    return response"
   ]
  },
  {
   "cell_type": "code",
   "execution_count": null,
   "metadata": {},
   "outputs": [],
   "source": [
    "response = call_edit( prompt_text = chatgpt_python_codecontest[0]['gen_completion'] )\n",
    "response"
   ]
  },
  {
   "cell_type": "code",
   "execution_count": null,
   "metadata": {},
   "outputs": [],
   "source": [
    "idx = 0\n",
    "chatgpt_python_codecontest[idx]['gen_completion']['choices'][0]['text'][len( chatgpt_python_codecontest[idx]['question'] ): ]"
   ]
  },
  {
   "cell_type": "code",
   "execution_count": null,
   "metadata": {},
   "outputs": [],
   "source": []
  }
 ],
 "metadata": {
  "kernelspec": {
   "display_name": "prompt",
   "language": "python",
   "name": "python3"
  },
  "language_info": {
   "codemirror_mode": {
    "name": "ipython",
    "version": 3
   },
   "file_extension": ".py",
   "mimetype": "text/x-python",
   "name": "python",
   "nbconvert_exporter": "python",
   "pygments_lexer": "ipython3",
   "version": "3.8.15"
  },
  "orig_nbformat": 4
 },
 "nbformat": 4,
 "nbformat_minor": 2
}
